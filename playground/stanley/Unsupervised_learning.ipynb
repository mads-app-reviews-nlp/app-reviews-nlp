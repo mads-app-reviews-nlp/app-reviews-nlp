{
 "cells": [
  {
   "cell_type": "markdown",
   "id": "announced-bangladesh",
   "metadata": {},
   "source": [
    "# Analysis Framework"
   ]
  },
  {
   "cell_type": "markdown",
   "id": "objective-heritage",
   "metadata": {},
   "source": [
    "### Data cleaning\n",
    " 1. filter out non-Eng reviews (using spacy language detector)\n",
    " 2. sentence segmentation (will need to assess the implication of this, may bot be helpful at all)"
   ]
  },
  {
   "cell_type": "markdown",
   "id": "recovered-magnet",
   "metadata": {},
   "source": [
    " ### Pre-processing\n",
    " 1. strip white space and line breaks\n",
    " 2. remove stop words, punc\n",
    " 3. lemmatization\n",
    " 4. lowercase\n",
    " 5. noun / noun phrase extraction (will need to assess the implication of this, may bot be helpful at all)"
   ]
  },
  {
   "cell_type": "markdown",
   "id": "aggregate-edward",
   "metadata": {},
   "source": [
    "### Data transformation\n",
    " 1. TfidfVectorizer\n",
    "  1. n_gram range: [(1,1), (1,2), (2,2)]\n",
    "  2. max_df: 0.9\n",
    "  3. min_df: [5, 10, 15, 20]\n",
    "  \n",
    "  \n",
    " 2. CountVectorizer\n",
    "  1. n_gram range: [(1,1), (1,2), (2,2)]"
   ]
  },
  {
   "cell_type": "markdown",
   "id": "charming-bailey",
   "metadata": {},
   "source": [
    "### Model Selection and evaluation\n",
    " \n",
    " 1. Sickit Learn\n",
    "  1. LDA (perplexity socre, log-likelihood, human judgement) \n",
    "  2. NMF (human judgement)\n",
    "  \n",
    "1. Gensim\n",
    "  1. LDA (coherence measure)\n",
    "  2. NMF (human judgement)"
   ]
  },
  {
   "cell_type": "markdown",
   "id": "refined-purple",
   "metadata": {},
   "source": [
    "### Visualization\n",
    "1. multi-bar chart to explore weights of different terms in each topic\n",
    "2. PyLDAVis"
   ]
  },
  {
   "cell_type": "markdown",
   "id": "crude-layer",
   "metadata": {},
   "source": [
    "# Import libraries"
   ]
  },
  {
   "cell_type": "code",
   "execution_count": 1,
   "id": "ultimate-worker",
   "metadata": {},
   "outputs": [],
   "source": [
    "import pandas as pd\n",
    "import spacy\n",
    "import nltk\n",
    "from nltk.stem import WordNetLemmatizer\n",
    "from nltk.tokenize import sent_tokenize\n",
    "import re\n",
    "from sklearn.feature_extraction.text import TfidfVectorizer, CountVectorizer\n",
    "from sklearn.model_selection import train_test_split\n",
    "import numpy as np\n",
    "from spacy_langdetect import LanguageDetector\n",
    "from spacy.language import Language\n",
    "from gensim.test.utils import common_texts\n",
    "from gensim.corpora.dictionary import Dictionary\n",
    "import pickle"
   ]
  },
  {
   "cell_type": "markdown",
   "id": "excellent-ancient",
   "metadata": {},
   "source": [
    "# Import reviews"
   ]
  },
  {
   "cell_type": "code",
   "execution_count": 2,
   "id": "affiliated-creature",
   "metadata": {},
   "outputs": [],
   "source": [
    "with open('sg_reviews.pkl', 'rb') as f:\n",
    "    sg_reviews = pickle.load(f)\n",
    "    \n",
    "with open('au_reviews.pkl', 'rb') as f:\n",
    "    au_reviews = pickle.load(f)"
   ]
  },
  {
   "cell_type": "markdown",
   "id": "classical-manor",
   "metadata": {},
   "source": [
    "# Pre-processing"
   ]
  },
  {
   "cell_type": "code",
   "execution_count": null,
   "id": "announced-western",
   "metadata": {},
   "outputs": [],
   "source": [
    "# Only run this once, or you need to restart the kernel to avoid errors\n",
    "Language.factory(\"language_detector\", func=get_lang_detector)"
   ]
  },
  {
   "cell_type": "code",
   "execution_count": 4,
   "id": "alpine-teacher",
   "metadata": {
    "scrolled": true
   },
   "outputs": [
    {
     "name": "stdout",
     "output_type": "stream",
     "text": [
      "['transformer', 'tagger', 'parser', 'attribute_ruler', 'lemmatizer', 'ner', 'language_detector']\n"
     ]
    }
   ],
   "source": [
    "# language detection function\n",
    "def get_lang_detector(nlp, name):\n",
    "    return LanguageDetector()\n",
    "\n",
    "#init the nlp function and add language detector to the pipeline\n",
    "nlp = spacy.load(\"en_core_web_trf\")\n",
    "\n",
    "nlp.add_pipe('language_detector', last=True)\n",
    "\n",
    "print(nlp.pipe_names)\n",
    "\n",
    "def lan_detect(x):\n",
    "    text=str(x)\n",
    "    with nlp.select_pipes(enable=['parser', 'language_detector']):    \n",
    "        doc = nlp(text)\n",
    "        lan_score=doc._.language\n",
    "    return lan_score['language'], lan_score['score']"
   ]
  },
  {
   "cell_type": "code",
   "execution_count": 10,
   "id": "better-breakfast",
   "metadata": {},
   "outputs": [],
   "source": [
    "trial=sg_reviews.sample(5000)"
   ]
  },
  {
   "cell_type": "code",
   "execution_count": 11,
   "id": "acknowledged-wales",
   "metadata": {},
   "outputs": [],
   "source": [
    "trial['language'], trial['cof_score'] = zip(*trial['review'].map(lan_detect))"
   ]
  },
  {
   "cell_type": "code",
   "execution_count": 12,
   "id": "personalized-robinson",
   "metadata": {},
   "outputs": [],
   "source": [
    "trial_en=trial[trial['language']=='en']\n",
    "\n",
    "# sg_reviews_en['review_explode']=sg_reviews_en['review'].apply(lambda x:sent_tokenize(x))\n",
    "# sg_reviews_en=sg_reviews_en.explode('review_explode')"
   ]
  },
  {
   "cell_type": "markdown",
   "id": "complex-context",
   "metadata": {},
   "source": [
    "# SKlearn - vectorization"
   ]
  },
  {
   "cell_type": "code",
   "execution_count": 13,
   "id": "alert-actor",
   "metadata": {},
   "outputs": [],
   "source": [
    "stop_words=spacy.lang.en.stop_words.STOP_WORDS\n",
    "\n",
    "def spacy_tokenizer(sentence):\n",
    "    # remove line breaks\n",
    "    stripped_sentence = re.sub('\\n', '', sentence)\n",
    "    \n",
    "    # parse sentence using spacy nlp pipeline\n",
    "    with nlp.select_pipes(enable=['transformer', 'tagger', 'attribute_ruler', 'lemmatizer']):\n",
    "        tokens=nlp(stripped_sentence)\n",
    "     \n",
    "    # lemmetize and remove punctuation\n",
    "    lemma_tokens=[token.lemma_.lower().strip() for token in tokens if not token.is_punct]\n",
    "    \n",
    "    # removing stop words\n",
    "    lemma_tokens_no_stop_words=[word for word in lemma_tokens if word not in stop_words]\n",
    "      \n",
    "    return lemma_tokens_no_stop_words"
   ]
  },
  {
   "cell_type": "code",
   "execution_count": null,
   "id": "alleged-positive",
   "metadata": {
    "scrolled": true
   },
   "outputs": [],
   "source": [
    "# func test\n",
    "spacy_tokenizer('Used to be a good app been using for years, now pools orders sending poor drivers in circles and baiting customers with artificial delivery time.')"
   ]
  },
  {
   "cell_type": "code",
   "execution_count": 16,
   "id": "exact-journalism",
   "metadata": {},
   "outputs": [],
   "source": [
    "# split the sample for train and test\n",
    "X_train, X_test=train_test_split(trial_en.review, test_size=0.2, random_state=100)"
   ]
  },
  {
   "cell_type": "code",
   "execution_count": 17,
   "id": "alpine-richardson",
   "metadata": {},
   "outputs": [],
   "source": [
    "#init vectorizer with different settings\n",
    "\n",
    "tfidf_vectorizer = TfidfVectorizer(ngram_range = (1,2), \n",
    "                                   lowercase=True,\n",
    "                                   min_df=5, \n",
    "                                   stop_words='english')\n",
    "\n",
    "tfidf_vectorizer_spacy = TfidfVectorizer(ngram_range = (1,2),min_df=5, tokenizer=spacy_tokenizer)\n",
    "\n",
    "count_vectorizer = CountVectorizer(ngram_range = (1,2), \n",
    "                                   lowercase=True,\n",
    "                                   min_df=5, \n",
    "                                   stop_words='english')\n",
    "\n",
    "count_vectorizer_spacy = CountVectorizer(ngram_range = (1,2),min_df=5, tokenizer=spacy_tokenizer)"
   ]
  },
  {
   "cell_type": "markdown",
   "id": "miniature-bridal",
   "metadata": {},
   "source": [
    "# Sickit-learn"
   ]
  },
  {
   "cell_type": "code",
   "execution_count": null,
   "id": "editorial-modification",
   "metadata": {},
   "outputs": [],
   "source": [
    "%%time\n",
    "tfidf_documents = tfidf_vectorizer_spacy.fit_transform(apple_reviews['review'])\n",
    "tfidf_feature_names = tfidf_vectorizer_spacy.get_feature_names()\n"
   ]
  },
  {
   "cell_type": "code",
   "execution_count": 18,
   "id": "breathing-control",
   "metadata": {},
   "outputs": [
    {
     "name": "stdout",
     "output_type": "stream",
     "text": [
      "Wall time: 50 ms\n"
     ]
    }
   ],
   "source": [
    "%%time\n",
    "tfidf_documents_std = tfidf_vectorizer.fit_transform(X_train)\n",
    "tfidf_feature_names_std = tfidf_vectorizer.get_feature_names()\n",
    "vectorized_data=tfidf_vectorizer.transform(X_test)"
   ]
  },
  {
   "cell_type": "code",
   "execution_count": 19,
   "id": "heated-munich",
   "metadata": {},
   "outputs": [],
   "source": [
    "tf_documents_std=count_vectorizer.fit_transform(X_train)\n",
    "tf_feature_names_std = count_vectorizer.get_feature_names()\n",
    "vectorized_data_tf=count_vectorizer.transform(X_test)"
   ]
  },
  {
   "cell_type": "code",
   "execution_count": 49,
   "id": "liberal-miniature",
   "metadata": {},
   "outputs": [
    {
     "name": "stderr",
     "output_type": "stream",
     "text": [
      "c:\\users\\stanley\\appdata\\local\\programs\\python\\python39\\lib\\site-packages\\ipykernel\\ipkernel.py:283: DeprecationWarning: `should_run_async` will not call `transform_cell` automatically in the future. Please pass the result to `transformed_cell` argument and any exception that happen during thetransform in `preprocessing_exc_tuple` in IPython 7.17 and above.\n",
      "  and should_run_async(code)\n"
     ]
    }
   ],
   "source": [
    "n_topics = 5\n",
    "\n",
    "from sklearn.decomposition import LatentDirichletAllocation\n",
    "\n",
    "# This will take a couple of minutes to run...\n",
    "\n",
    "lda = LatentDirichletAllocation(n_components = n_topics,\n",
    "                                learning_method='online',\n",
    "                                random_state=100,          # Random state\n",
    "                                batch_size=128,            # n docs in each learning iter\n",
    "                                evaluate_every = -1,       # compute perplexity every n iters, default: Don't\n",
    "                                n_jobs = -1)\n",
    "lda.fit(tfidf_documents_std)\n",
    "topic_models = lda.components_"
   ]
  },
  {
   "cell_type": "code",
   "execution_count": 22,
   "id": "historic-montgomery",
   "metadata": {},
   "outputs": [
    {
     "name": "stdout",
     "output_type": "stream",
     "text": [
      "Log Likelihood:  -9151.84317563333\n",
      "Perplexity:  2143.793391193669\n",
      "{'batch_size': 128, 'doc_topic_prior': None, 'evaluate_every': -1, 'learning_decay': 0.7, 'learning_method': 'online', 'learning_offset': 10.0, 'max_doc_update_iter': 100, 'max_iter': 10, 'mean_change_tol': 0.001, 'n_components': 3, 'n_jobs': -1, 'perp_tol': 0.1, 'random_state': 100, 'topic_word_prior': None, 'total_samples': 1000000.0, 'verbose': 0}\n"
     ]
    }
   ],
   "source": [
    "# Higher the better\n",
    "print(\"Log Likelihood: \", lda.score(vectorized_data))\n",
    "\n",
    "# Perplexity: Lower the better. Perplexity = exp(-1. * log-likelihood per word)\n",
    "print(\"Perplexity: \", lda.perplexity(vectorized_data))\n",
    "\n",
    "# See model parameters\n",
    "print(lda.get_params())"
   ]
  },
  {
   "cell_type": "markdown",
   "id": "chronic-filter",
   "metadata": {},
   "source": [
    "# GridSearch"
   ]
  },
  {
   "cell_type": "code",
   "execution_count": 25,
   "id": "prepared-portal",
   "metadata": {},
   "outputs": [
    {
     "data": {
      "text/plain": [
       "GridSearchCV(estimator=LatentDirichletAllocation(n_jobs=-1),\n",
       "             param_grid={'learning_decay': [0.5, 0.7, 0.9],\n",
       "                         'n_components': [2, 3, 4, 5]})"
      ]
     },
     "execution_count": 25,
     "metadata": {},
     "output_type": "execute_result"
    }
   ],
   "source": [
    "from sklearn.model_selection import GridSearchCV\n",
    "search_params = {'n_components': [2,3,4,5], 'learning_decay': [.5, .7, .9]}\n",
    "lda = LatentDirichletAllocation(n_jobs = -1)\n",
    "model = GridSearchCV(lda, param_grid=search_params)\n",
    "model.fit(tfidf_documents_std)"
   ]
  },
  {
   "cell_type": "code",
   "execution_count": 26,
   "id": "altered-casting",
   "metadata": {},
   "outputs": [
    {
     "name": "stdout",
     "output_type": "stream",
     "text": [
      "Best Model's Params:  {'learning_decay': 0.5, 'n_components': 2}\n",
      "Best Log Likelihood Score:  -7370.6294356406\n",
      "Model Perplexity:  1327.8045184710647\n"
     ]
    }
   ],
   "source": [
    "best_model=model.best_estimator_\n",
    "print(\"Best Model's Params: \", model.best_params_)\n",
    "\n",
    "# Log Likelihood Score\n",
    "print(\"Best Log Likelihood Score: \", model.best_score_)\n",
    "\n",
    "# Perplexity\n",
    "print(\"Model Perplexity: \", best_model.perplexity(vectorized_data))"
   ]
  },
  {
   "cell_type": "code",
   "execution_count": 63,
   "id": "above-florist",
   "metadata": {},
   "outputs": [
    {
     "name": "stdout",
     "output_type": "stream",
     "text": [
      "topic 0: ['nice', 'food', 'best', 'app', 'bad', 'awesome', 'grab', 'useful']\n",
      "topic 1: ['good', 'great', 'easy', 'app', 'use', 'service', 'good service', 'good app']\n",
      "topic 2: ['food', 'panda', 'helpful', 'food panda', 'delivery', 'app', 'like', 'services']\n",
      "topic 3: ['order', 'time', 'app', 'service', 'don', 'just', 'customer', 'food']\n",
      "topic 4: ['fast', 'amazing', 'great', 'loved', 'great service', 'service', 'improve', 'fast delivery']\n"
     ]
    },
    {
     "name": "stderr",
     "output_type": "stream",
     "text": [
      "c:\\users\\stanley\\appdata\\local\\programs\\python\\python39\\lib\\site-packages\\ipykernel\\ipkernel.py:283: DeprecationWarning: `should_run_async` will not call `transform_cell` automatically in the future. Please pass the result to `transformed_cell` argument and any exception that happen during thetransform in `preprocessing_exc_tuple` in IPython 7.17 and above.\n",
      "  and should_run_async(code)\n"
     ]
    }
   ],
   "source": [
    "num_top_words = 8\n",
    "tf_feature_names=tfidf_vectorizer.get_feature_names()\n",
    "def display_topics(model, feature_names, no_top_words):\n",
    "    for topic_idx, topic in enumerate(model.components_):\n",
    "        term_list = [feature_names[i]\n",
    "                        for i in topic.argsort()[:-no_top_words - 1:-1]]\n",
    "        print(\"topic %d:\" % (topic_idx), term_list)\n",
    "\n",
    "\n",
    "display_topics(lda, tf_feature_names, num_top_words)"
   ]
  },
  {
   "cell_type": "code",
   "execution_count": 50,
   "id": "awful-assignment",
   "metadata": {},
   "outputs": [
    {
     "name": "stderr",
     "output_type": "stream",
     "text": [
      "c:\\users\\stanley\\appdata\\local\\programs\\python\\python39\\lib\\site-packages\\ipykernel\\ipkernel.py:283: DeprecationWarning: `should_run_async` will not call `transform_cell` automatically in the future. Please pass the result to `transformed_cell` argument and any exception that happen during thetransform in `preprocessing_exc_tuple` in IPython 7.17 and above.\n",
      "  and should_run_async(code)\n"
     ]
    },
    {
     "data": {
      "image/png": "[encoded data removed]",
      "text/plain": [
       "<Figure size 1440x720 with 10 Axes>"
      ]
     },
     "metadata": {
      "needs_background": "light"
     },
     "output_type": "display_data"
    }
   ],
   "source": [
    "%matplotlib inline\n",
    "import seaborn as sns\n",
    "import matplotlib.pyplot as plt\n",
    "fig, axs = plt.subplots(2, 5)\n",
    "sns.set(style=\"whitegrid\")\n",
    "\n",
    "for n, topic in enumerate(lda.components_):\n",
    "    top10_index=topic.argsort()[-10:]\n",
    "    y=[tf_feature_names[i] for i in top10_index]\n",
    "    x=topic[top10_index]\n",
    "    if n>4:\n",
    "        axs[1, n-5].barh(y, x)\n",
    "        axs[1, n-5].set_title(n+1)\n",
    "        axs[1, n-5].tick_params(axis='both', which='major', labelsize=15)\n",
    "    else:\n",
    "        axs[0, n].barh(y, x)\n",
    "        axs[0, n].set_title(n+1)\n",
    "        axs[0, n].tick_params(axis='both', which='major', labelsize=15)\n",
    "\n",
    "    n=n+1\n",
    "fig.set_figheight(10)\n",
    "fig.set_figwidth(20)\n",
    "fig.tight_layout()\n",
    "    \n",
    "    \n",
    "    "
   ]
  },
  {
   "cell_type": "code",
   "execution_count": 52,
   "id": "bright-reggae",
   "metadata": {},
   "outputs": [
    {
     "name": "stderr",
     "output_type": "stream",
     "text": [
      "c:\\users\\stanley\\appdata\\local\\programs\\python\\python39\\lib\\site-packages\\ipykernel\\ipkernel.py:283: DeprecationWarning: `should_run_async` will not call `transform_cell` automatically in the future. Please pass the result to `transformed_cell` argument and any exception that happen during thetransform in `preprocessing_exc_tuple` in IPython 7.17 and above.\n",
      "  and should_run_async(code)\n"
     ]
    },
    {
     "data": {
      "text/html": [
       "\n",
       "<link rel=\"stylesheet\" type=\"text/css\" href=\"https://cdn.jsdelivr.net/gh/bmabey/pyLDAvis@3.3.1/pyLDAvis/js/ldavis.v1.0.0.css\">\n",
       "\n",
       "\n",
       "<div id=\"ldavis_el605618082990320168800821497\"></div>\n",
       "<script type=\"text/javascript\">\n",
       "\n",
       "var ldavis_el605618082990320168800821497_data = {\"mdsDat\": {\"x\": [0.07326489728558438, -0.2820035221409355, 0.15136240203568388, 0.10194486618955724, -0.04456864336988969], \"y\": [0.09649069219402101, -0.0568840480421996, 0.024366552963520548, -0.20237219923714608, 0.13839900212180387], \"topics\": [1, 2, 3, 4, 5], \"cluster\": [1, 1, 1, 1, 1], \"Freq\": [38.782695074029014, 18.808965481762147, 18.46999260477634, 13.45009410532663, 10.488252734105867]}, \"tinfo\": {\"Term\": [\"good\", \"great\", \"easy\", \"fast\", \"good service\", \"good app\", \"food\", \"easy use\", \"nice\", \"use\", \"helpful\", \"panda\", \"love\", \"service\", \"amazing\", \"app\", \"food panda\", \"best\", \"great app\", \"loved\", \"like\", \"great service\", \"services\", \"awesome\", \"bad\", \"discount\", \"apps\", \"useful\", \"delivery\", \"need\", \"update\", \"location\", \"customer service\", \"orders\", \"refund\", \"address\", \"cancelled\", \"help\", \"friendly\", \"deliver\", \"poor\", \"area\", \"good experience\", \"user\", \"pay\", \"experience\", \"card\", \"far\", \"cash\", \"pathetic\", \"dont\", \"customers\", \"ve\", \"issue\", \"suck\", \"says\", \"user friendly\", \"credit\", \"provide\", \"hard\", \"using\", \"customer\", \"don\", \"place\", \"time\", \"times\", \"worst\", \"just\", \"ordered\", \"order\", \"wrong\", \"restaurant\", \"restaurants\", \"payment\", \"service\", \"late\", \"app\", \"delivery\", \"food\", \"easy\", \"good service\", \"good app\", \"easy use\", \"great app\", \"good apps\", \"thanks\", \"love app\", \"options\", \"good\", \"simple\", \"satisfied\", \"helps\", \"app good\", \"easy order\", \"easier\", \"food good\", \"great\", \"good delivery\", \"love\", \"job\", \"good food\", \"choices\", \"superb\", \"app easy\", \"access\", \"really good\", \"sign\", \"makes\", \"quick easy\", \"use\", \"convenient\", \"slow\", \"discounts\", \"use app\", \"excellent\", \"app\", \"service\", \"quick\", \"lot\", \"apps\", \"really\", \"nice\", \"awesome\", \"useful\", \"cool\", \"nice app\", \"reliable\", \"free\", \"useful app\", \"add\", \"perfect\", \"best app\", \"bad service\", \"suspended\", \"long\", \"hungry\", \"grab food\", \"working\", \"app food\", \"free delivery\", \"check\", \"world\", \"cheaper\", \"kind\", \"old\", \"ride\", \"recommended\", \"charged\", \"received\", \"food delivered\", \"god\", \"reason\", \"best\", \"bad\", \"thank\", \"quite\", \"company\", \"foods\", \"grab\", \"driver\", \"delivered\", \"foodpanda\", \"food\", \"want\", \"better\", \"money\", \"app\", \"option\", \"delivery\", \"order\", \"time\", \"service\", \"helpful\", \"services\", \"discount\", \"open\", \"delivery app\", \"like app\", \"ok\", \"service good\", \"prices\", \"code\", \"helpful app\", \"panda\", \"interface\", \"best food\", \"everytime\", \"ads\", \"taxi\", \"don like\", \"uber\", \"food delivery\", \"deals\", \"food panda\", \"50\", \"lots\", \"shops\", \"isn\", \"opening\", \"download\", \"love food\", \"doorstep\", \"voucher\", \"like\", \"order food\", \"promo\", \"food\", \"search\", \"delivery\", \"way\", \"best\", \"app\", \"used\", \"quality\", \"love\", \"order\", \"thank\", \"late\", \"amazing\", \"fast\", \"loved\", \"great service\", \"fast delivery\", \"improve\", \"keeps\", \"efficient\", \"amazing app\", \"polite\", \"fast easy\", \"smooth\", \"transport\", \"pandemic\", \"great apps\", \"verification\", \"mobile\", \"reasonable\", \"specially\", \"verify\", \"selection\", \"guess\", \"delivery fee\", \"bugs\", \"tq\", \"adress\", \"app keeps\", \"useless app\", \"enter\", \"stupid app\", \"expensive\", \"fee\", \"number\", \"application\", \"simply\", \"fix\", \"available\", \"need\", \"apps\", \"great\", \"service\", \"delivery\", \"app\", \"account\", \"convenient\"], \"Freq\": [123.0, 82.0, 57.0, 34.0, 38.0, 37.0, 76.0, 36.0, 34.0, 51.0, 23.0, 27.0, 36.0, 81.0, 17.0, 118.0, 22.0, 30.0, 19.0, 13.0, 23.0, 13.0, 15.0, 17.0, 26.0, 14.0, 29.0, 16.0, 58.0, 17.0, 15.607073100049737, 13.61493875329635, 12.90409088927931, 11.025282908806156, 11.457834744306899, 10.48523365954162, 10.257924269875769, 10.197864036796181, 10.100150207219608, 10.431948005284308, 9.05167734177471, 9.06060644737562, 8.695613998313824, 8.552969414411994, 8.465784706330762, 18.443766007574144, 7.908022226239186, 8.125142143138676, 6.699242891263857, 6.623979438495396, 6.285320982662289, 6.204355618878252, 6.106939544884928, 6.171192278649689, 6.007150122389381, 5.995189636266777, 5.7979931503897095, 5.780567289942195, 5.85628255153285, 5.764923893637329, 12.367076182707708, 18.879572112691868, 19.031745808166182, 9.74384427483958, 33.66933943860867, 12.440207792097256, 12.601808034747021, 18.946594296336492, 11.100272745154264, 39.831333946793016, 11.316417017930362, 12.36142679264518, 13.394777832988623, 11.632237552531832, 22.87495102785472, 10.674963745624423, 23.476340599180546, 17.128237957568153, 18.450744315858106, 57.086261324521494, 37.37897706330471, 36.483096025582704, 35.477296827443915, 19.186833049635066, 11.276761816159828, 11.385244849839129, 10.968318617180342, 10.138210573372817, 113.0717088846512, 6.654743198063477, 6.330466916344291, 6.235363948751436, 5.7157853005667745, 4.90683554253937, 4.840059818617316, 4.551736336399296, 68.92907558651592, 3.569485341927783, 29.867110310584245, 4.290663027518833, 3.2831176095661267, 3.21807529485468, 3.1063136220148873, 3.0670280631997615, 2.9566159370789222, 2.9122265511074796, 2.8446148814303402, 2.7865433846518814, 2.633442310471177, 38.56569676165884, 12.693477601584824, 7.1485139575139724, 6.515207001060438, 6.722824144459261, 5.069892709056402, 51.83731795743505, 37.9108432139566, 7.601682927172489, 7.388735402800782, 13.786198881727591, 7.186727624221768, 33.686476550439444, 17.097766686378833, 15.732285021954299, 10.482377231649318, 9.779836437494975, 8.628845312402033, 7.335212164132494, 6.95497979232323, 6.484331149478023, 6.238005134951412, 6.025666952767752, 5.8940453291822275, 5.888718623188686, 5.828176536286407, 5.859514254898159, 5.741191099531753, 5.44705229717348, 4.823057413923383, 4.635528576830592, 4.464177199401414, 4.297128112552501, 4.200624024530217, 3.816322498717678, 3.956303877405718, 3.7494043686409233, 3.6993461878257774, 3.706036053984836, 3.6921907323316816, 3.643613677809874, 3.596741449565748, 5.241280049808443, 20.787884116746756, 18.186197739213995, 13.300936761295736, 4.747909682366919, 6.32633663041403, 6.170181282470526, 16.306899431072313, 11.11996012469506, 7.369178071328989, 10.907136607942252, 23.651624981658472, 8.189716584235548, 9.183511462961372, 7.705826257966879, 19.192453861424585, 7.7953412368311055, 11.292406012053561, 11.231659457655843, 9.573996480041737, 9.865424476791167, 23.000019302559338, 14.358132096769829, 13.46160593095353, 7.8286380740775465, 7.016293280180015, 6.375348590509547, 6.3277699642239815, 6.525360825802627, 7.208048896457924, 5.50586386150903, 4.733372292182716, 23.701120968782323, 4.453785427190677, 4.344621825422242, 4.3818713132234945, 4.2186156114808, 4.196278582858792, 4.1370042846650215, 4.1705144833684065, 9.695924242336895, 4.01767482491829, 18.709744903498414, 3.937329495578797, 3.8906829073874607, 3.819112689397677, 4.0721081559618355, 3.671697684766301, 3.5948629626236013, 3.394280636963073, 3.4307045603333446, 7.89977749688623, 16.033665090228705, 7.556070332845503, 5.554303120120215, 32.33048502339762, 5.264364853560673, 17.366591213271168, 6.298240305433435, 9.246589493958082, 16.650694832239694, 5.4835854939081905, 4.673395354663333, 5.192554550942175, 5.001686118961239, 4.560355969479431, 4.460031309757712, 16.875085751506752, 33.289245321500616, 13.020340447510579, 12.448539518322098, 8.612362739761044, 8.689164125303343, 7.450783431102097, 6.226516695793081, 4.678171776136273, 4.632361697612229, 4.565623352030061, 4.614607524144722, 4.22693344276276, 4.045198770205383, 3.7039670953118358, 3.6800541303259493, 3.620349237200984, 3.6080480251361937, 3.4468599556582786, 3.3126072882859168, 3.2815826071157823, 3.193147472109619, 3.107880532270734, 4.075849153011788, 2.844915098085668, 2.829208318894452, 2.761484058109237, 2.7406506092481577, 2.6642181144541817, 2.5373608947688835, 6.167791453854443, 3.8620123037029663, 6.614560179834358, 6.582540266984308, 3.6580119739047356, 6.115383157109636, 6.617759070574188, 8.041854108043873, 8.572797539326293, 13.113319445567466, 10.917511218966494, 8.42609888335804, 7.6145963157355885, 4.068490340797697, 3.7061683219757318], \"Total\": [123.0, 82.0, 57.0, 34.0, 38.0, 37.0, 76.0, 36.0, 34.0, 51.0, 23.0, 27.0, 36.0, 81.0, 17.0, 118.0, 22.0, 30.0, 19.0, 13.0, 23.0, 13.0, 15.0, 17.0, 26.0, 14.0, 29.0, 16.0, 58.0, 17.0, 16.3987966263925, 14.401702800549577, 13.656423889218061, 11.771410834015855, 12.241393524580829, 11.23589659811555, 11.002051263689015, 10.951558144330468, 10.849021229272013, 11.22798550664254, 9.797119261124003, 9.82751501784093, 9.441797326097054, 9.303823524033124, 9.221788811324902, 20.13667541535938, 8.659025354786788, 8.999427718058504, 7.446866068742146, 7.367318393929529, 7.035307388869257, 6.951761033065873, 6.8557898307760246, 6.932772750642251, 6.7519787137224005, 6.760940872183243, 6.542207232665652, 6.5262095401938645, 6.612146569450453, 6.5144243629827425, 13.98096276020803, 21.550108970498936, 22.10400424073911, 11.221855642954788, 44.315810046869274, 15.021897340500487, 15.462022624476232, 24.729685422345074, 13.530020752424276, 60.453474062110224, 14.053880216853322, 16.65098430745542, 18.772873468688015, 16.390981554323556, 81.76582782815547, 15.687116555149304, 118.77140356601545, 58.026482355915135, 76.90806263083478, 57.84317965392402, 38.124355647634374, 37.23076568529133, 36.22408321802773, 19.933973695693087, 12.022047145774831, 12.147413767247428, 11.718602710280143, 10.889539618702091, 123.75287091687842, 7.408835944477821, 7.084187049629962, 6.986840915061657, 6.4676647406132055, 5.654443876246979, 5.60680946920971, 5.300522640173545, 82.60436327254433, 4.31594317585098, 36.124020647387034, 5.201078941340222, 4.0384621863408015, 3.9873460066800996, 3.8549113146233087, 3.8147169156531326, 3.7045991670253575, 3.664859632246768, 3.6095445530103674, 3.540596467685566, 3.3796742503282764, 51.585725677379365, 16.955188706129004, 9.63187717973039, 8.71750023041648, 9.258413071971786, 6.941128522449577, 118.77140356601545, 81.76582782815547, 11.758440010516754, 11.472303516603251, 29.24224936901252, 14.1821958592385, 34.42702528915864, 17.85128725788461, 16.503144911200298, 11.219059879388546, 10.516170494700404, 9.368766904422381, 8.081826697659688, 7.689761256386436, 7.22619845162703, 6.985425845257315, 6.76564414148888, 6.631534050884887, 6.630713854933595, 6.572288285366667, 6.612471046321069, 6.488883273912517, 6.194806305161804, 5.564743570499505, 5.377137436432889, 5.208944252918031, 5.038137897326791, 4.949478457187696, 4.5586584212274746, 4.731758614390074, 4.493431706870476, 4.442647688272584, 4.4508136881512215, 4.439200754636339, 4.383545960536806, 4.337657099335916, 6.505272162643928, 30.58629400480458, 26.5389044468273, 18.923784190168696, 5.9167388418139755, 8.2403316629831, 8.149172764053999, 26.747978608381054, 17.628674367969705, 10.723765343787386, 20.64469763900047, 76.90806263083478, 14.05825374920483, 18.945063943262987, 14.738866459942283, 118.77140356601545, 16.615832852185196, 58.026482355915135, 60.453474062110224, 44.315810046869274, 81.76582782815547, 23.728351842781944, 15.084180839654637, 14.186102121922008, 8.549501820155538, 7.732793120121831, 7.090786224177436, 7.048118016045228, 7.283620729521606, 8.054294181757466, 6.22422701976066, 5.4478825797813135, 27.486362509654203, 5.177246730007848, 5.059790406788209, 5.112965995893696, 4.9381161808138705, 4.920493813847459, 4.857786102065179, 4.89835946276833, 11.410672901757891, 4.736207315518314, 22.072006988469003, 4.657093750384409, 4.617686420101709, 4.539639065306238, 4.866544397402948, 4.39449312824423, 4.318281087306458, 4.115181286257626, 4.169862849530957, 10.238524033383447, 23.95935495048133, 10.72578528667274, 7.4017988611485865, 76.90806263083478, 7.394442024000754, 58.026482355915135, 11.759476919807547, 30.58629400480458, 118.77140356601545, 10.178071936763457, 7.8542592657043615, 36.124020647387034, 60.453474062110224, 18.923784190168696, 15.687116555149304, 17.57482916868312, 34.899678986103766, 13.717155924451733, 13.144536023870597, 9.308922398322508, 9.39375917019952, 8.210539459392734, 6.9247016859929875, 5.374103063028085, 5.328666223464568, 5.261434183489237, 5.31952740428371, 4.929328714392609, 4.7540247780813045, 4.398607510842187, 4.381706230058552, 4.320636791103103, 4.318630175605673, 4.152145818215397, 4.0152461854152275, 3.9776805985158408, 3.899767053824794, 3.8092394068253443, 5.042614190733069, 3.545094378363203, 3.5270570547272406, 3.4600133592929403, 3.438121688587791, 3.361569576139475, 3.252524764840337, 8.240885658927128, 5.213599626130037, 9.939884174452455, 9.8952522402504, 4.9763738690642265, 10.87561017621464, 12.483758016326817, 17.590059131887894, 29.24224936901252, 82.60436327254433, 81.76582782815547, 58.026482355915135, 118.77140356601545, 11.920182804569599, 16.955188706129004], \"Category\": [\"Default\", \"Default\", \"Default\", \"Default\", \"Default\", \"Default\", \"Default\", \"Default\", \"Default\", \"Default\", \"Default\", \"Default\", \"Default\", \"Default\", \"Default\", \"Default\", \"Default\", \"Default\", \"Default\", \"Default\", \"Default\", \"Default\", \"Default\", \"Default\", \"Default\", \"Default\", \"Default\", \"Default\", \"Default\", \"Default\", \"Topic1\", \"Topic1\", \"Topic1\", \"Topic1\", \"Topic1\", \"Topic1\", \"Topic1\", \"Topic1\", \"Topic1\", \"Topic1\", \"Topic1\", \"Topic1\", \"Topic1\", \"Topic1\", \"Topic1\", \"Topic1\", \"Topic1\", \"Topic1\", \"Topic1\", \"Topic1\", \"Topic1\", \"Topic1\", \"Topic1\", \"Topic1\", \"Topic1\", \"Topic1\", \"Topic1\", \"Topic1\", \"Topic1\", \"Topic1\", \"Topic1\", \"Topic1\", \"Topic1\", \"Topic1\", \"Topic1\", \"Topic1\", \"Topic1\", \"Topic1\", \"Topic1\", \"Topic1\", \"Topic1\", \"Topic1\", \"Topic1\", \"Topic1\", \"Topic1\", \"Topic1\", \"Topic1\", \"Topic1\", \"Topic1\", \"Topic2\", \"Topic2\", \"Topic2\", \"Topic2\", \"Topic2\", \"Topic2\", \"Topic2\", \"Topic2\", \"Topic2\", \"Topic2\", \"Topic2\", \"Topic2\", \"Topic2\", \"Topic2\", \"Topic2\", \"Topic2\", \"Topic2\", \"Topic2\", \"Topic2\", \"Topic2\", \"Topic2\", \"Topic2\", \"Topic2\", \"Topic2\", \"Topic2\", \"Topic2\", \"Topic2\", \"Topic2\", \"Topic2\", \"Topic2\", \"Topic2\", \"Topic2\", \"Topic2\", \"Topic2\", \"Topic2\", \"Topic2\", \"Topic2\", \"Topic2\", \"Topic2\", \"Topic2\", \"Topic2\", \"Topic2\", \"Topic3\", \"Topic3\", \"Topic3\", \"Topic3\", \"Topic3\", \"Topic3\", \"Topic3\", \"Topic3\", \"Topic3\", \"Topic3\", \"Topic3\", \"Topic3\", \"Topic3\", \"Topic3\", \"Topic3\", \"Topic3\", \"Topic3\", \"Topic3\", \"Topic3\", \"Topic3\", \"Topic3\", \"Topic3\", \"Topic3\", \"Topic3\", \"Topic3\", \"Topic3\", \"Topic3\", \"Topic3\", \"Topic3\", \"Topic3\", \"Topic3\", \"Topic3\", \"Topic3\", \"Topic3\", \"Topic3\", \"Topic3\", \"Topic3\", \"Topic3\", \"Topic3\", \"Topic3\", \"Topic3\", \"Topic3\", \"Topic3\", \"Topic3\", \"Topic3\", \"Topic3\", \"Topic3\", \"Topic3\", \"Topic3\", \"Topic3\", \"Topic3\", \"Topic4\", \"Topic4\", \"Topic4\", \"Topic4\", \"Topic4\", \"Topic4\", \"Topic4\", \"Topic4\", \"Topic4\", \"Topic4\", \"Topic4\", \"Topic4\", \"Topic4\", \"Topic4\", \"Topic4\", \"Topic4\", \"Topic4\", \"Topic4\", \"Topic4\", \"Topic4\", \"Topic4\", \"Topic4\", \"Topic4\", \"Topic4\", \"Topic4\", \"Topic4\", \"Topic4\", \"Topic4\", \"Topic4\", \"Topic4\", \"Topic4\", \"Topic4\", \"Topic4\", \"Topic4\", \"Topic4\", \"Topic4\", \"Topic4\", \"Topic4\", \"Topic4\", \"Topic4\", \"Topic4\", \"Topic4\", \"Topic4\", \"Topic4\", \"Topic4\", \"Topic4\", \"Topic5\", \"Topic5\", \"Topic5\", \"Topic5\", \"Topic5\", \"Topic5\", \"Topic5\", \"Topic5\", \"Topic5\", \"Topic5\", \"Topic5\", \"Topic5\", \"Topic5\", \"Topic5\", \"Topic5\", \"Topic5\", \"Topic5\", \"Topic5\", \"Topic5\", \"Topic5\", \"Topic5\", \"Topic5\", \"Topic5\", \"Topic5\", \"Topic5\", \"Topic5\", \"Topic5\", \"Topic5\", \"Topic5\", \"Topic5\", \"Topic5\", \"Topic5\", \"Topic5\", \"Topic5\", \"Topic5\", \"Topic5\", \"Topic5\", \"Topic5\", \"Topic5\", \"Topic5\", \"Topic5\", \"Topic5\", \"Topic5\", \"Topic5\", \"Topic5\"], \"logprob\": [30.0, 29.0, 28.0, 27.0, 26.0, 25.0, 24.0, 23.0, 22.0, 21.0, 20.0, 19.0, 18.0, 17.0, 16.0, 15.0, 14.0, 13.0, 12.0, 11.0, 10.0, 9.0, 8.0, 7.0, 6.0, 5.0, 4.0, 3.0, 2.0, 1.0, -4.8115, -4.9481, -5.0017, -5.1591, -5.1206, -5.2093, -5.2312, -5.2371, -5.2467, -5.2144, -5.3563, -5.3553, -5.3965, -5.413, -5.4232, -4.6445, -5.4914, -5.4643, -5.6573, -5.6686, -5.7211, -5.734, -5.7498, -5.7394, -5.7663, -5.7683, -5.8018, -5.8048, -5.7918, -5.8075, -5.0442, -4.6212, -4.6132, -5.2826, -4.0427, -5.0383, -5.0254, -4.6176, -5.1523, -3.8746, -5.133, -5.0447, -4.9644, -5.1055, -4.4292, -5.1914, -4.4033, -4.7185, -4.6442, -2.7911, -3.2145, -3.2388, -3.2667, -3.8814, -4.4129, -4.4033, -4.4406, -4.5193, -2.1076, -4.9403, -4.9903, -5.0054, -5.0924, -5.245, -5.2587, -5.3201, -2.6026, -5.5632, -3.4389, -5.3792, -5.6468, -5.6668, -5.7022, -5.7149, -5.7516, -5.7667, -5.7902, -5.8108, -5.8673, -3.1833, -4.2945, -4.8687, -4.9615, -4.9301, -5.2123, -2.8875, -3.2004, -4.8073, -4.8357, -4.212, -4.8634, -3.3003, -3.9785, -4.0617, -4.4677, -4.5371, -4.6623, -4.8248, -4.878, -4.9481, -4.9868, -5.0214, -5.0435, -5.0444, -5.0547, -5.0494, -5.0698, -5.1224, -5.244, -5.2837, -5.3214, -5.3595, -5.3822, -5.4782, -5.4421, -5.4958, -5.5093, -5.5075, -5.5112, -5.5245, -5.5374, -5.1609, -3.7831, -3.9168, -4.2296, -5.2597, -4.9727, -4.9977, -4.0259, -4.4087, -4.8201, -4.428, -3.654, -4.7146, -4.6, -4.7755, -3.8629, -4.7639, -4.3933, -4.3987, -4.5584, -4.5284, -3.3648, -3.836, -3.9004, -4.4425, -4.552, -4.6478, -4.6553, -4.6246, -4.5251, -4.7945, -4.9456, -3.3348, -5.0065, -5.0313, -5.0228, -5.0608, -5.0661, -5.0803, -5.0722, -4.2286, -5.1096, -3.5712, -5.1298, -5.1417, -5.1603, -5.0961, -5.1996, -5.2208, -5.2782, -5.2675, -4.4334, -3.7256, -4.4779, -4.7857, -3.0243, -4.8393, -3.6457, -4.66, -4.276, -3.6878, -4.7985, -4.9584, -4.8531, -4.8905, -4.9829, -5.0051, -3.4257, -2.7463, -3.685, -3.7299, -4.0984, -4.0895, -4.2432, -4.4227, -4.7086, -4.7185, -4.733, -4.7223, -4.8101, -4.854, -4.9421, -4.9486, -4.965, -4.9684, -5.0141, -5.0538, -5.0632, -5.0905, -5.1176, -4.8465, -5.206, -5.2116, -5.2358, -5.2434, -5.2716, -5.3204, -4.4322, -4.9004, -4.3623, -4.3671, -4.9546, -4.4407, -4.3618, -4.1669, -4.103, -3.6779, -3.8612, -4.1202, -4.2215, -4.8483, -4.9416], \"loglift\": [30.0, 29.0, 28.0, 27.0, 26.0, 25.0, 24.0, 23.0, 22.0, 21.0, 20.0, 19.0, 18.0, 17.0, 16.0, 15.0, 14.0, 13.0, 12.0, 11.0, 10.0, 9.0, 8.0, 7.0, 6.0, 5.0, 4.0, 3.0, 2.0, 1.0, 0.8977, 0.891, 0.8905, 0.8817, 0.881, 0.8781, 0.8772, 0.8759, 0.8757, 0.8737, 0.8681, 0.8659, 0.8649, 0.863, 0.8617, 0.8594, 0.8565, 0.845, 0.8414, 0.8408, 0.8345, 0.8335, 0.8315, 0.8308, 0.8303, 0.827, 0.8264, 0.8259, 0.8258, 0.825, 0.8245, 0.8149, 0.7975, 0.806, 0.6724, 0.7586, 0.7426, 0.6808, 0.7493, 0.53, 0.7306, 0.6493, 0.6096, 0.6042, -0.3266, 0.5623, -0.674, -0.273, -0.4803, 1.6577, 1.6511, 1.6506, 1.65, 1.6326, 1.6068, 1.606, 1.6047, 1.5993, 1.5806, 1.5635, 1.5583, 1.557, 1.5473, 1.529, 1.5238, 1.5185, 1.4899, 1.4809, 1.4806, 1.4784, 1.4638, 1.4565, 1.4549, 1.4527, 1.4453, 1.441, 1.4327, 1.4313, 1.4213, 1.38, 1.3814, 1.3727, 1.3796, 1.3508, 1.3567, 0.8417, 0.9022, 1.2346, 1.2309, 0.9189, 0.9911, 1.6673, 1.6459, 1.6412, 1.6211, 1.6164, 1.6068, 1.5921, 1.5886, 1.5807, 1.5759, 1.5732, 1.5711, 1.5703, 1.5689, 1.5681, 1.5666, 1.5604, 1.546, 1.5406, 1.5347, 1.5299, 1.525, 1.5113, 1.51, 1.508, 1.5059, 1.5059, 1.5048, 1.5041, 1.5017, 1.473, 1.3028, 1.3111, 1.3364, 1.4689, 1.4247, 1.4108, 1.1942, 1.2282, 1.3139, 1.051, 0.5098, 1.1487, 0.9649, 1.0405, -0.1337, 0.9322, 0.0523, 0.0059, 0.1567, -0.4258, 1.975, 1.9569, 1.9538, 1.9181, 1.9089, 1.8998, 1.8984, 1.8963, 1.8952, 1.8835, 1.8656, 1.858, 1.8557, 1.8538, 1.8519, 1.8487, 1.847, 1.8456, 1.8453, 1.8433, 1.8417, 1.8409, 1.8383, 1.8349, 1.8334, 1.828, 1.8265, 1.8228, 1.8136, 1.8111, 1.7469, 1.6045, 1.6559, 1.719, 1.1396, 1.6664, 0.7998, 1.3818, 0.8099, 0.0414, 1.3877, 1.487, 0.0665, -0.4859, 0.5832, 0.7485, 2.2143, 2.2077, 2.2028, 2.2005, 2.1771, 2.1769, 2.1578, 2.1486, 2.1162, 2.1149, 2.1131, 2.1128, 2.1012, 2.0935, 2.083, 2.0804, 2.0781, 2.0751, 2.0688, 2.0626, 2.0625, 2.055, 2.0514, 2.0421, 2.0349, 2.0344, 2.0294, 2.0282, 2.0224, 2.0066, 1.9651, 1.9548, 1.8476, 1.8473, 1.9471, 1.6792, 1.6202, 1.4722, 1.0279, 0.4145, 0.2414, 0.3253, -0.4922, 1.18, 0.7343]}, \"token.table\": {\"Topic\": [4, 2, 1, 3, 5, 3, 1, 5, 4, 5, 5, 1, 2, 3, 4, 5, 2, 3, 2, 5, 1, 5, 1, 2, 3, 5, 1, 1, 5, 3, 1, 3, 3, 3, 4, 3, 4, 1, 3, 4, 5, 1, 1, 1, 3, 3, 3, 2, 4, 1, 3, 2, 5, 3, 1, 1, 3, 1, 1, 4, 1, 1, 3, 1, 2, 3, 4, 5, 4, 5, 4, 1, 2, 1, 4, 4, 1, 4, 4, 1, 3, 2, 2, 2, 2, 5, 5, 4, 1, 2, 4, 5, 1, 4, 1, 3, 5, 5, 5, 4, 5, 1, 5, 1, 2, 3, 4, 3, 1, 4, 2, 3, 4, 1, 3, 3, 5, 3, 3, 1, 3, 1, 2, 4, 2, 2, 2, 1, 2, 2, 1, 2, 3, 3, 2, 5, 2, 5, 5, 5, 1, 1, 4, 4, 2, 3, 5, 4, 4, 1, 2, 1, 3, 5, 5, 3, 1, 4, 1, 3, 4, 4, 1, 3, 2, 4, 5, 4, 1, 2, 4, 2, 4, 5, 2, 5, 1, 3, 1, 3, 5, 3, 3, 1, 5, 4, 3, 4, 4, 1, 3, 2, 1, 2, 3, 4, 3, 4, 1, 3, 1, 3, 4, 5, 1, 1, 1, 3, 3, 1, 3, 5, 1, 4, 1, 4, 1, 1, 4, 1, 2, 5, 2, 1, 3, 1, 2, 3, 2, 1, 3, 5, 3, 3, 1, 3, 1, 2, 3, 1, 3, 5, 3, 2, 1, 2, 4, 5, 1, 2, 3, 5, 4, 4, 4, 2, 2, 1, 5, 2, 5, 5, 5, 5, 1, 2, 3, 4, 2, 3, 4, 2, 1, 2, 3, 1, 3, 5, 5, 4, 1, 1, 2, 4, 1, 2, 1, 4, 3, 3, 5, 1, 1, 1, 3, 1, 5, 5, 3, 4, 1, 3, 2, 3, 4, 3, 3, 1, 2, 1, 3], \"Freq\": [0.8589047621533985, 0.8098042095088193, 0.3355653235843498, 0.25167399268826235, 0.3355653235843498, 0.8303120984241801, 0.8900046304873586, 0.8505674712517516, 0.8100254942443951, 0.9672924747566014, 0.9303878138099396, 0.19364930706755648, 0.43781582467447555, 0.15997116670798145, 0.14313209652819392, 0.06735628071915008, 0.7864279490019139, 0.8985139991906559, 0.9276918703474933, 0.8670486753880786, 0.3031756975124956, 0.7074099608624898, 0.20518257416811755, 0.47875933972560764, 0.03419709569468626, 0.3077738612521763, 0.9157961075268107, 0.40052041968938973, 0.5607285875651457, 0.9523122761072251, 0.3014442444686669, 0.6782495500545006, 0.9047680301361617, 0.6865820356235791, 0.29424944383867674, 0.8868335186602958, 0.7905465796831436, 0.31670518600353664, 0.475057779005305, 0.15835259300176832, 0.7932393494134242, 0.9089214147732461, 0.9238915088263978, 0.9399927345789332, 0.8987120738503704, 0.8081659582114453, 0.7679099268069945, 0.7523801533586565, 0.9639751218828002, 0.12135433874490287, 0.7281260324694172, 0.7667269427264308, 0.23591598237736333, 0.891340282296899, 0.9193698061710974, 0.8816660753785555, 0.09280695530300584, 0.9519329588373192, 0.8630906573832378, 0.8445576245984608, 0.8906317160886914, 0.2797524846753565, 0.6527557975758318, 0.29296968056287914, 0.06893404248538333, 0.18956861683480417, 0.29296968056287914, 0.13786808497076666, 0.9052356491711904, 0.7875587957597624, 0.9163898503106709, 0.22942356720814788, 0.8029824852285176, 0.8595727630644303, 0.13572201522069952, 0.8234203639183474, 0.8528412005838943, 0.7194481229370535, 0.9262944952235643, 0.34035457656995793, 0.6239833903782562, 0.8917727679989738, 0.9854230064984538, 0.8842602578484956, 0.9662080276632499, 0.8664633181435906, 0.8924402521054726, 0.7823247804136509, 0.14406879180607543, 0.7203439590303771, 0.24269236132811212, 0.7280770839843363, 0.8938913514129737, 0.04966063063405409, 0.8889454141563886, 0.028653558687407314, 0.9455674366844413, 0.9668143760250728, 0.9503112318102095, 0.1918060594810734, 0.7672242379242936, 0.367795455628609, 0.5516931834429135, 0.2340456823935551, 0.026005075821506123, 0.31206090985807344, 0.41608121314409796, 0.9125032647108741, 0.0876372505468931, 0.876372505468931, 0.9433032060091897, 0.13591876812866538, 0.8608188648148807, 0.4359472905526042, 0.5328244662309607, 0.7362710515189959, 0.12271184191983266, 0.8661408196277013, 0.9298627864934997, 0.921742135872935, 0.9221568022544682, 0.07272558554253715, 0.9131101295896331, 0.008080620615837461, 0.9669422408420258, 0.9149855982611055, 0.9267962614478387, 0.9532083446786207, 0.7428570236826363, 0.9705082058821854, 0.299088021458688, 0.074772005364672, 0.598176042917376, 0.9246583343734982, 0.8353069652306601, 0.15737667460867508, 0.9531466374968238, 0.9093787045423684, 0.9129268601195121, 0.7692767179664424, 0.9210330285042707, 0.9131120766753101, 0.9693045750666621, 0.9177877692438643, 0.8587572084353164, 0.9073763738199164, 0.9580828970526869, 0.772611430089973, 0.8219384584541378, 0.8654545902206532, 0.7690711956333572, 0.7683073874782133, 0.12131169275971788, 0.08087446183981192, 0.8525627377616588, 0.877451133731347, 0.7012123586465764, 0.2549863122351187, 0.16694940278096435, 0.16694940278096435, 0.6677976111238574, 0.8461685080198603, 0.972107270500385, 0.9129240440287931, 0.6101651677772711, 0.2614993576188305, 0.08716645253961015, 0.866234654347078, 0.02768241137278647, 0.830472341183594, 0.13841205686393235, 0.9386784646560508, 0.7290079807706893, 0.9477183223401758, 0.8473148599058097, 0.9257894596085126, 0.40708693686227315, 0.5427825824830309, 0.4548023369345764, 0.05685029211682205, 0.4548023369345764, 0.9875962187969486, 0.9509164961750547, 0.30181438207405037, 0.7042335581727842, 0.8512910803055285, 0.8453516601280816, 0.9357270362981757, 0.9102301183022112, 0.48146849280250775, 0.48146849280250775, 0.9183124677581076, 0.6616658615665956, 0.06616658615665956, 0.1819581119308138, 0.08270823269582445, 0.27969980004425704, 0.7458661334513521, 0.8130068830847171, 0.14781943328813038, 0.934467427490789, 0.10914503506771009, 0.8731602805416807, 0.8413923331746654, 0.9501421854887947, 0.8675106493629009, 0.732109908136324, 0.24403663604544135, 0.8589311708281379, 0.8911182177145646, 0.08911182177145646, 0.9383211089451804, 0.918637383104332, 0.8691016049369807, 0.13510229320725195, 0.8106137592435118, 0.9074209013637564, 0.38195836150959595, 0.6365972691826599, 0.08504529504811859, 0.6803623603849487, 0.25513588514435576, 0.8876595132529718, 0.16901202279420133, 0.8450601139710067, 0.28204377091537197, 0.49357659910190094, 0.14102188545768599, 0.8185852395554993, 0.1537214700627639, 0.7686073503138195, 0.9262196199606312, 0.9010631014653632, 0.9003639902752008, 0.8985905058857802, 0.9606386936312493, 0.7206781159854341, 0.12011301933090568, 0.12011301933090568, 0.6924885538531537, 0.1598050508891893, 0.10653670059279287, 0.8901882260464721, 0.8469567443611481, 0.8874504471243039, 0.27047341685937004, 0.6761835421484251, 0.7542083698523621, 0.2812911042537029, 0.4647418244191613, 0.1223004801103056, 0.13453052812133617, 0.961060475269937, 0.9281246458671162, 0.8811273192553174, 0.831129788243781, 0.9448177895229888, 0.2009495319908597, 0.8037981279634387, 0.7267534530788047, 0.20764384373680136, 0.9399331218734955, 0.722517977774058, 0.9223603867462841, 0.8886283938967232, 0.7782280200895235, 0.9048799467550072, 0.8129265377273787, 0.05284355337974743, 0.6869661939367165, 0.26421776689873716, 0.905542546814273, 0.7672205464379627, 0.02256531018935184, 0.22565310189351842, 0.7988338442206525, 0.1331389740367754, 0.8462398119243084, 0.8114695188253193, 0.8165999311409012, 0.9756813481209549, 0.17446686814656076, 0.7560230953017634, 0.07754083028736035, 0.21601974166119758, 0.7560690958141916, 0.39300174186742554, 0.4912521773342819, 0.9695121800173477, 0.9103013431251091, 0.8725694642973066, 0.9673442296870417, 0.9171216665289388, 0.858309989506148, 0.07152583245884567, 0.8751726858757636, 0.9128863940170057, 0.7471521947762617, 0.19534065588739702, 0.7813626235495881, 0.3556629499793182, 0.5690607199669091, 0.08503779605329297, 0.34015118421317186, 0.5102267763197579, 0.8071277379300407, 0.7939441280720757, 0.8407696920208308, 0.12934918338782012, 0.7827019890783523, 0.1423094525597004], \"Term\": [\"50\", \"access\", \"account\", \"account\", \"account\", \"add\", \"address\", \"adress\", \"ads\", \"amazing\", \"amazing app\", \"app\", \"app\", \"app\", \"app\", \"app\", \"app easy\", \"app food\", \"app good\", \"app keeps\", \"application\", \"application\", \"apps\", \"apps\", \"apps\", \"apps\", \"area\", \"available\", \"available\", \"awesome\", \"bad\", \"bad\", \"bad service\", \"best\", \"best\", \"best app\", \"best food\", \"better\", \"better\", \"better\", \"bugs\", \"cancelled\", \"card\", \"cash\", \"charged\", \"cheaper\", \"check\", \"choices\", \"code\", \"company\", \"company\", \"convenient\", \"convenient\", \"cool\", \"credit\", \"customer\", \"customer\", \"customer service\", \"customers\", \"deals\", \"deliver\", \"delivered\", \"delivered\", \"delivery\", \"delivery\", \"delivery\", \"delivery\", \"delivery\", \"delivery app\", \"delivery fee\", \"discount\", \"discounts\", \"discounts\", \"don\", \"don\", \"don like\", \"dont\", \"doorstep\", \"download\", \"driver\", \"driver\", \"easier\", \"easy\", \"easy order\", \"easy use\", \"efficient\", \"enter\", \"everytime\", \"excellent\", \"excellent\", \"expensive\", \"expensive\", \"experience\", \"experience\", \"far\", \"fast\", \"fast\", \"fast delivery\", \"fast easy\", \"fee\", \"fee\", \"fix\", \"fix\", \"food\", \"food\", \"food\", \"food\", \"food delivered\", \"food delivery\", \"food delivery\", \"food good\", \"food panda\", \"food panda\", \"foodpanda\", \"foodpanda\", \"foods\", \"foods\", \"free\", \"free delivery\", \"friendly\", \"god\", \"good\", \"good\", \"good\", \"good app\", \"good apps\", \"good delivery\", \"good experience\", \"good food\", \"good service\", \"grab\", \"grab\", \"grab\", \"grab food\", \"great\", \"great\", \"great app\", \"great apps\", \"great service\", \"guess\", \"hard\", \"help\", \"helpful\", \"helpful app\", \"helps\", \"hungry\", \"improve\", \"interface\", \"isn\", \"issue\", \"job\", \"just\", \"just\", \"just\", \"keeps\", \"kind\", \"late\", \"late\", \"like\", \"like\", \"like\", \"like app\", \"location\", \"long\", \"lot\", \"lot\", \"lot\", \"lots\", \"love\", \"love\", \"love\", \"love app\", \"love food\", \"loved\", \"makes\", \"mobile\", \"money\", \"money\", \"need\", \"need\", \"need\", \"nice\", \"nice app\", \"number\", \"number\", \"ok\", \"old\", \"open\", \"opening\", \"option\", \"option\", \"options\", \"order\", \"order\", \"order\", \"order\", \"order food\", \"order food\", \"ordered\", \"ordered\", \"orders\", \"panda\", \"panda\", \"pandemic\", \"pathetic\", \"pay\", \"payment\", \"payment\", \"perfect\", \"place\", \"place\", \"polite\", \"poor\", \"prices\", \"promo\", \"promo\", \"provide\", \"quality\", \"quality\", \"quick\", \"quick\", \"quick\", \"quick easy\", \"quite\", \"quite\", \"really\", \"really\", \"really\", \"really good\", \"reason\", \"reason\", \"reasonable\", \"received\", \"recommended\", \"refund\", \"reliable\", \"restaurant\", \"restaurant\", \"restaurant\", \"restaurants\", \"restaurants\", \"restaurants\", \"ride\", \"satisfied\", \"says\", \"search\", \"search\", \"selection\", \"service\", \"service\", \"service\", \"service\", \"service good\", \"services\", \"shops\", \"sign\", \"simple\", \"simply\", \"simply\", \"slow\", \"slow\", \"smooth\", \"specially\", \"stupid app\", \"suck\", \"superb\", \"suspended\", \"taxi\", \"thank\", \"thank\", \"thank\", \"thanks\", \"time\", \"time\", \"time\", \"times\", \"times\", \"tq\", \"transport\", \"uber\", \"update\", \"use\", \"use\", \"use\", \"use app\", \"use app\", \"used\", \"used\", \"useful\", \"useful app\", \"useless app\", \"user\", \"user friendly\", \"using\", \"using\", \"ve\", \"verification\", \"verify\", \"voucher\", \"voucher\", \"want\", \"want\", \"way\", \"way\", \"way\", \"working\", \"world\", \"worst\", \"worst\", \"wrong\", \"wrong\"]}, \"R\": 30, \"lambda.step\": 0.01, \"plot.opts\": {\"xlab\": \"PC1\", \"ylab\": \"PC2\"}, \"topic.order\": [4, 2, 1, 3, 5]};\n",
       "\n",
       "function LDAvis_load_lib(url, callback){\n",
       "  var s = document.createElement('script');\n",
       "  s.src = url;\n",
       "  s.async = true;\n",
       "  s.onreadystatechange = s.onload = callback;\n",
       "  s.onerror = function(){console.warn(\"failed to load library \" + url);};\n",
       "  document.getElementsByTagName(\"head\")[0].appendChild(s);\n",
       "}\n",
       "\n",
       "if(typeof(LDAvis) !== \"undefined\"){\n",
       "   // already loaded: just create the visualization\n",
       "   !function(LDAvis){\n",
       "       new LDAvis(\"#\" + \"ldavis_el605618082990320168800821497\", ldavis_el605618082990320168800821497_data);\n",
       "   }(LDAvis);\n",
       "}else if(typeof define === \"function\" && define.amd){\n",
       "   // require.js is available: use it to load d3/LDAvis\n",
       "   require.config({paths: {d3: \"https://d3js.org/d3.v5\"}});\n",
       "   require([\"d3\"], function(d3){\n",
       "      window.d3 = d3;\n",
       "      LDAvis_load_lib(\"https://cdn.jsdelivr.net/gh/bmabey/pyLDAvis@3.3.1/pyLDAvis/js/ldavis.v3.0.0.js\", function(){\n",
       "        new LDAvis(\"#\" + \"ldavis_el605618082990320168800821497\", ldavis_el605618082990320168800821497_data);\n",
       "      });\n",
       "    });\n",
       "}else{\n",
       "    // require.js not available: dynamically load d3 & LDAvis\n",
       "    LDAvis_load_lib(\"https://d3js.org/d3.v5.js\", function(){\n",
       "         LDAvis_load_lib(\"https://cdn.jsdelivr.net/gh/bmabey/pyLDAvis@3.3.1/pyLDAvis/js/ldavis.v3.0.0.js\", function(){\n",
       "                 new LDAvis(\"#\" + \"ldavis_el605618082990320168800821497\", ldavis_el605618082990320168800821497_data);\n",
       "            })\n",
       "         });\n",
       "}\n",
       "</script>"
      ],
      "text/plain": [
       "PreparedData(topic_coordinates=              x         y  topics  cluster       Freq\n",
       "topic                                                \n",
       "3      0.073265  0.096491       1        1  38.782695\n",
       "1     -0.282004 -0.056884       2        1  18.808965\n",
       "0      0.151362  0.024367       3        1  18.469993\n",
       "2      0.101945 -0.202372       4        1  13.450094\n",
       "4     -0.044569  0.138399       5        1  10.488253, topic_info=             Term        Freq       Total Category  logprob  loglift\n",
       "300          good  123.000000  123.000000  Default  30.0000  30.0000\n",
       "317         great   82.000000   82.000000  Default  29.0000  29.0000\n",
       "224          easy   57.000000   57.000000  Default  28.0000  28.0000\n",
       "257          fast   34.000000   34.000000  Default  27.0000  27.0000\n",
       "308  good service   38.000000   38.000000  Default  26.0000  26.0000\n",
       "..            ...         ...         ...      ...      ...      ...\n",
       "607       service   10.917511   81.765828   Topic5  -3.8612   0.2414\n",
       "176      delivery    8.426099   58.026482   Topic5  -4.1202   0.3253\n",
       "34            app    7.614596  118.771404   Topic5  -4.2215  -0.4922\n",
       "15        account    4.068490   11.920183   Topic5  -4.8483   1.1800\n",
       "137    convenient    3.706168   16.955189   Topic5  -4.9416   0.7343\n",
       "\n",
       "[263 rows x 6 columns], token_table=      Topic      Freq     Term\n",
       "term                          \n",
       "10        4  0.858905       50\n",
       "14        2  0.809804   access\n",
       "15        1  0.335565  account\n",
       "15        3  0.251674  account\n",
       "15        5  0.335565  account\n",
       "...     ...       ...      ...\n",
       "757       3  0.793944    world\n",
       "759       1  0.840770    worst\n",
       "759       2  0.129349    worst\n",
       "765       1  0.782702    wrong\n",
       "765       3  0.142309    wrong\n",
       "\n",
       "[311 rows x 3 columns], R=30, lambda_step=0.01, plot_opts={'xlab': 'PC1', 'ylab': 'PC2'}, topic_order=[4, 2, 1, 3, 5])"
      ]
     },
     "execution_count": 52,
     "metadata": {},
     "output_type": "execute_result"
    }
   ],
   "source": [
    "from __future__ import print_function\n",
    "import pyLDAvis\n",
    "import pyLDAvis.sklearn\n",
    "pyLDAvis.enable_notebook()\n",
    "\n",
    "pyLDAvis.sklearn.prepare(lda, tfidf_documents_std, tfidf_vectorizer)"
   ]
  },
  {
   "cell_type": "markdown",
   "id": "ordered-acting",
   "metadata": {},
   "source": [
    "# NMF"
   ]
  },
  {
   "cell_type": "code",
   "execution_count": 53,
   "id": "polish-cosmetic",
   "metadata": {},
   "outputs": [
    {
     "name": "stdout",
     "output_type": "stream",
     "text": [
      "topic  0 ['good', 'good app', 'good apps', 'apps', 'good experience', 'good service', 'experience', 'food good']\n",
      "topic  1 ['great', 'great app', 'great service', 'app great', 'app', 'work', 'options', 'services']\n",
      "topic  2 ['easy', 'easy use', 'use', 'use app', 'fast', 'helpful', 'convenient', 'easy order']\n",
      "topic  3 ['service', 'good service', 'good', 'great service', 'customer', 'customer service', 'bad', 'worst']\n",
      "topic  4 ['app', 'food', 'good app', 'order', 'love', 'delivery', 'time', 'nice']\n"
     ]
    },
    {
     "name": "stderr",
     "output_type": "stream",
     "text": [
      "c:\\users\\stanley\\appdata\\local\\programs\\python\\python39\\lib\\site-packages\\ipykernel\\ipkernel.py:283: DeprecationWarning: `should_run_async` will not call `transform_cell` automatically in the future. Please pass the result to `transformed_cell` argument and any exception that happen during thetransform in `preprocessing_exc_tuple` in IPython 7.17 and above.\n",
      "  and should_run_async(code)\n"
     ]
    }
   ],
   "source": [
    "\n",
    "\n",
    "from sklearn import decomposition\n",
    "\n",
    "nmf = decomposition.NMF(n_components=5, init=\"nndsvd\")\n",
    "W = nmf.fit_transform(tfidf_documents_std) \n",
    "H = nmf.components_\n",
    "\n",
    "top = 8\n",
    "topic_index_max = 5\n",
    "\n",
    "for topic_index in range(0, topic_index_max):\n",
    "    top_indices = np.argsort(H[topic_index, :])[::-1]\n",
    "    top_terms = []\n",
    "    for term_index in top_indices[0:top]:\n",
    "        top_terms.append(tfidf_feature_names_std[term_index])\n",
    "    print(\"topic \", topic_index, top_terms)"
   ]
  },
  {
   "cell_type": "code",
   "execution_count": 66,
   "id": "level-privacy",
   "metadata": {},
   "outputs": [
    {
     "name": "stderr",
     "output_type": "stream",
     "text": [
      "c:\\users\\stanley\\appdata\\local\\programs\\python\\python39\\lib\\site-packages\\ipykernel\\ipkernel.py:283: DeprecationWarning: `should_run_async` will not call `transform_cell` automatically in the future. Please pass the result to `transformed_cell` argument and any exception that happen during thetransform in `preprocessing_exc_tuple` in IPython 7.17 and above.\n",
      "  and should_run_async(code)\n"
     ]
    },
    {
     "data": {
      "image/png": "[encoded data removed]",
      "text/plain": [
       "<Figure size 432x288 with 1 Axes>"
      ]
     },
     "metadata": {},
     "output_type": "display_data"
    }
   ],
   "source": [
    "%matplotlib inline\n",
    "import seaborn as sns\n",
    "\n",
    "import matplotlib.pyplot as plt\n",
    "sns.set(style=\"whitegrid\")\n",
    "\n",
    "topic_index = 3\n",
    "vocab = np.array(tfidf_feature_names_std)\n",
    "top_term_indices = np.array(np.argsort(H[topic_index, :])[::-1])[0:20]\n",
    "\n",
    "term_strings = vocab[top_term_indices]\n",
    "term_weights = H[topic_index, top_term_indices]\n",
    "\n",
    "sns.set_color_codes(\"pastel\")\n",
    "sns.barplot(x=term_weights, y=term_strings, label=\"Weight\", color=\"b\")\n",
    "\n",
    "plt.show()"
   ]
  },
  {
   "cell_type": "markdown",
   "id": "quantitative-effort",
   "metadata": {},
   "source": [
    "# Gensim - LDA"
   ]
  },
  {
   "cell_type": "code",
   "execution_count": 38,
   "id": "freelance-reliance",
   "metadata": {},
   "outputs": [
    {
     "name": "stderr",
     "output_type": "stream",
     "text": [
      "c:\\users\\stanley\\appdata\\local\\programs\\python\\python39\\lib\\site-packages\\ipykernel\\ipkernel.py:283: DeprecationWarning: `should_run_async` will not call `transform_cell` automatically in the future. Please pass the result to `transformed_cell` argument and any exception that happen during thetransform in `preprocessing_exc_tuple` in IPython 7.17 and above.\n",
      "  and should_run_async(code)\n"
     ]
    }
   ],
   "source": [
    "corpus=X_train.apply(lambda x: spacy_tokenizer(x))\n",
    "corpus_test=X_test.apply(lambda x: spacy_tokenizer(x))"
   ]
  },
  {
   "cell_type": "code",
   "execution_count": 39,
   "id": "distant-preservation",
   "metadata": {},
   "outputs": [
    {
     "name": "stderr",
     "output_type": "stream",
     "text": [
      "c:\\users\\stanley\\appdata\\local\\programs\\python\\python39\\lib\\site-packages\\ipykernel\\ipkernel.py:283: DeprecationWarning: `should_run_async` will not call `transform_cell` automatically in the future. Please pass the result to `transformed_cell` argument and any exception that happen during thetransform in `preprocessing_exc_tuple` in IPython 7.17 and above.\n",
      "  and should_run_async(code)\n"
     ]
    }
   ],
   "source": [
    "common_dictionary = Dictionary(corpus)\n",
    "common_corpus = [common_dictionary.doc2bow(text) for text in corpus]"
   ]
  },
  {
   "cell_type": "code",
   "execution_count": 40,
   "id": "lesser-massage",
   "metadata": {},
   "outputs": [
    {
     "name": "stderr",
     "output_type": "stream",
     "text": [
      "c:\\users\\stanley\\appdata\\local\\programs\\python\\python39\\lib\\site-packages\\ipykernel\\ipkernel.py:283: DeprecationWarning: `should_run_async` will not call `transform_cell` automatically in the future. Please pass the result to `transformed_cell` argument and any exception that happen during thetransform in `preprocessing_exc_tuple` in IPython 7.17 and above.\n",
      "  and should_run_async(code)\n"
     ]
    }
   ],
   "source": [
    "common_dictionary_test = Dictionary(corpus_test)\n",
    "common_corpus_test = [common_dictionary.doc2bow(text) for text in corpus_test]"
   ]
  },
  {
   "cell_type": "code",
   "execution_count": 41,
   "id": "beginning-joshua",
   "metadata": {},
   "outputs": [
    {
     "name": "stderr",
     "output_type": "stream",
     "text": [
      "c:\\users\\stanley\\appdata\\local\\programs\\python\\python39\\lib\\site-packages\\ipykernel\\ipkernel.py:283: DeprecationWarning: `should_run_async` will not call `transform_cell` automatically in the future. Please pass the result to `transformed_cell` argument and any exception that happen during thetransform in `preprocessing_exc_tuple` in IPython 7.17 and above.\n",
      "  and should_run_async(code)\n"
     ]
    }
   ],
   "source": [
    "from gensim.models import ldamodel"
   ]
  },
  {
   "cell_type": "code",
   "execution_count": 42,
   "id": "signal-hours",
   "metadata": {},
   "outputs": [
    {
     "name": "stderr",
     "output_type": "stream",
     "text": [
      "c:\\users\\stanley\\appdata\\local\\programs\\python\\python39\\lib\\site-packages\\ipykernel\\ipkernel.py:283: DeprecationWarning: `should_run_async` will not call `transform_cell` automatically in the future. Please pass the result to `transformed_cell` argument and any exception that happen during thetransform in `preprocessing_exc_tuple` in IPython 7.17 and above.\n",
      "  and should_run_async(code)\n"
     ]
    }
   ],
   "source": [
    "lda = ldamodel.LdaModel(common_corpus, num_topics=10)"
   ]
  },
  {
   "cell_type": "code",
   "execution_count": 43,
   "id": "possible-colors",
   "metadata": {},
   "outputs": [
    {
     "name": "stderr",
     "output_type": "stream",
     "text": [
      "c:\\users\\stanley\\appdata\\local\\programs\\python\\python39\\lib\\site-packages\\ipykernel\\ipkernel.py:283: DeprecationWarning: `should_run_async` will not call `transform_cell` automatically in the future. Please pass the result to `transformed_cell` argument and any exception that happen during thetransform in `preprocessing_exc_tuple` in IPython 7.17 and above.\n",
      "  and should_run_async(code)\n"
     ]
    }
   ],
   "source": [
    "x=lda.show_topics(num_topics=10, num_words=8,formatted=False)"
   ]
  },
  {
   "cell_type": "code",
   "execution_count": 44,
   "id": "reasonable-confirmation",
   "metadata": {},
   "outputs": [
    {
     "name": "stderr",
     "output_type": "stream",
     "text": [
      "c:\\users\\stanley\\appdata\\local\\programs\\python\\python39\\lib\\site-packages\\ipykernel\\ipkernel.py:283: DeprecationWarning: `should_run_async` will not call `transform_cell` automatically in the future. Please pass the result to `transformed_cell` argument and any exception that happen during thetransform in `preprocessing_exc_tuple` in IPython 7.17 and above.\n",
      "  and should_run_async(code)\n"
     ]
    }
   ],
   "source": [
    "topics_words = [(tp[0], [wd[0] for wd in tp[1]]) for tp in x]"
   ]
  },
  {
   "cell_type": "code",
   "execution_count": 45,
   "id": "synthetic-vatican",
   "metadata": {},
   "outputs": [
    {
     "name": "stdout",
     "output_type": "stream",
     "text": [
      "0\n",
      "['fast', 'list', 'town', 'app', 'book', 'ride', 'try', 'ng']\n",
      "1\n",
      "['app', 'love', 'use', 'order', 'grab', 'charge', 'account', 'browse']\n",
      "2\n",
      "['good', 'service', 'food', 'panda', 'use', 'time', 'nice', 'app']\n",
      "3\n",
      "['easy', 'use', 'service', 'app', 'food', 'customer', 'delivery', 'restaurant']\n",
      "4\n",
      "['service', 'food', 'bad', 'order', 'deliver', 'app', 'time', 'customer']\n",
      "5\n",
      "['order', 'app', 'food', 'good', 'restaurant', 'use', 'time', 'cancel']\n",
      "6\n",
      "['app', 'delivery', 'good', 'great', 'food', '🐼', 'fast', 'love']\n",
      "7\n",
      "['app', 'merchant', 'order', 'fix', 'function', 'option', 'item', 'wrong']\n",
      "8\n",
      "['great', 'order', 'time', 'good', 'delay', 'use', 'service', 'super']\n",
      "9\n",
      "['time', 'account', 'helpful', 'help', 'good', 'service', 'app', 'suspend']\n"
     ]
    },
    {
     "name": "stderr",
     "output_type": "stream",
     "text": [
      "c:\\users\\stanley\\appdata\\local\\programs\\python\\python39\\lib\\site-packages\\ipykernel\\ipkernel.py:283: DeprecationWarning: `should_run_async` will not call `transform_cell` automatically in the future. Please pass the result to `transformed_cell` argument and any exception that happen during thetransform in `preprocessing_exc_tuple` in IPython 7.17 and above.\n",
      "  and should_run_async(code)\n"
     ]
    }
   ],
   "source": [
    "for tp in x:\n",
    "    print (tp[0])\n",
    "    print([common_dictionary[int(n[0])] for n in tp[1]])"
   ]
  },
  {
   "cell_type": "code",
   "execution_count": null,
   "id": "parental-protest",
   "metadata": {},
   "outputs": [],
   "source": []
  }
 ],
 "metadata": {
  "kernelspec": {
   "display_name": "Python 3",
   "language": "python",
   "name": "python3"
  },
  "language_info": {
   "codemirror_mode": {
    "name": "ipython",
    "version": 3
   },
   "file_extension": ".py",
   "mimetype": "text/x-python",
   "name": "python",
   "nbconvert_exporter": "python",
   "pygments_lexer": "ipython3",
   "version": "3.9.1"
  }
 },
 "nbformat": 4,
 "nbformat_minor": 5
}
