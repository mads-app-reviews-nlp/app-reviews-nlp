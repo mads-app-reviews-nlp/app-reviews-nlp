{
 "cells": [
  {
   "cell_type": "code",
   "execution_count": 3,
   "id": "intensive-combat",
   "metadata": {},
   "outputs": [
    {
     "name": "stderr",
     "output_type": "stream",
     "text": [
      "2021-12-04 17:06:16,074 [INFO] Base - Searching for app id\n",
      "2021-12-04 17:06:23,135 [INFO] Base - Initialised: AppStore('au', 'ubereats', 1058959277)\n",
      "2021-12-04 17:06:23,136 [INFO] Base - Ready to fetch reviews from: https://apps.apple.com/au/app/ubereats/id1058959277\n",
      "2021-12-04 17:06:28,225 [INFO] Base - [id:1058959277] Fetched 100 reviews (100 fetched in total)\n",
      "2021-12-04 17:06:35,139 [INFO] Base - [id:1058959277] Fetched 240 reviews (240 fetched in total)\n",
      "2021-12-04 17:06:41,963 [INFO] Base - [id:1058959277] Fetched 380 reviews (380 fetched in total)\n",
      "2021-12-04 17:06:48,287 [INFO] Base - [id:1058959277] Fetched 500 reviews (500 fetched in total)\n",
      "2021-12-04 17:06:55,148 [INFO] Base - [id:1058959277] Fetched 640 reviews (640 fetched in total)\n",
      "2021-12-04 17:07:01,959 [INFO] Base - [id:1058959277] Fetched 780 reviews (780 fetched in total)\n",
      "2021-12-04 17:07:08,495 [INFO] Base - [id:1058959277] Fetched 900 reviews (900 fetched in total)\n",
      "2021-12-04 17:07:14,613 [INFO] Base - [id:1058959277] Fetched 1020 reviews (1020 fetched in total)\n",
      "2021-12-04 17:07:20,713 [INFO] Base - [id:1058959277] Fetched 1140 reviews (1140 fetched in total)\n",
      "2021-12-04 17:07:27,043 [INFO] Base - [id:1058959277] Fetched 1260 reviews (1260 fetched in total)\n",
      "2021-12-04 17:07:33,188 [INFO] Base - [id:1058959277] Fetched 1380 reviews (1380 fetched in total)\n",
      "2021-12-04 17:07:39,537 [INFO] Base - [id:1058959277] Fetched 1500 reviews (1500 fetched in total)\n",
      "2021-12-04 17:07:45,647 [INFO] Base - [id:1058959277] Fetched 1620 reviews (1620 fetched in total)\n",
      "2021-12-04 17:07:52,228 [INFO] Base - [id:1058959277] Fetched 1740 reviews (1740 fetched in total)\n",
      "2021-12-04 17:07:58,372 [INFO] Base - [id:1058959277] Fetched 1860 reviews (1860 fetched in total)\n",
      "2021-12-04 17:08:04,465 [INFO] Base - [id:1058959277] Fetched 1980 reviews (1980 fetched in total)\n",
      "2021-12-04 17:08:11,012 [INFO] Base - [id:1058959277] Fetched 2100 reviews (2100 fetched in total)\n",
      "2021-12-04 17:08:17,177 [INFO] Base - [id:1058959277] Fetched 2220 reviews (2220 fetched in total)\n",
      "2021-12-04 17:08:23,436 [INFO] Base - [id:1058959277] Fetched 2340 reviews (2340 fetched in total)\n",
      "2021-12-04 17:08:30,037 [INFO] Base - [id:1058959277] Fetched 2460 reviews (2460 fetched in total)\n",
      "2021-12-04 17:08:36,159 [INFO] Base - [id:1058959277] Fetched 2580 reviews (2580 fetched in total)\n",
      "2021-12-04 17:08:42,281 [INFO] Base - [id:1058959277] Fetched 2700 reviews (2700 fetched in total)\n",
      "2021-12-04 17:08:48,393 [INFO] Base - [id:1058959277] Fetched 2820 reviews (2820 fetched in total)\n",
      "2021-12-04 17:08:54,972 [INFO] Base - [id:1058959277] Fetched 2940 reviews (2940 fetched in total)\n",
      "2021-12-04 17:09:01,138 [INFO] Base - [id:1058959277] Fetched 3060 reviews (3060 fetched in total)\n",
      "2021-12-04 17:09:07,464 [INFO] Base - [id:1058959277] Fetched 3180 reviews (3180 fetched in total)\n",
      "2021-12-04 17:09:14,055 [INFO] Base - [id:1058959277] Fetched 3300 reviews (3300 fetched in total)\n",
      "2021-12-04 17:09:20,173 [INFO] Base - [id:1058959277] Fetched 3420 reviews (3420 fetched in total)\n",
      "2021-12-04 17:09:26,288 [INFO] Base - [id:1058959277] Fetched 3540 reviews (3540 fetched in total)\n",
      "2021-12-04 17:09:32,914 [INFO] Base - [id:1058959277] Fetched 3660 reviews (3660 fetched in total)\n",
      "2021-12-04 17:09:39,085 [INFO] Base - [id:1058959277] Fetched 3780 reviews (3780 fetched in total)\n",
      "2021-12-04 17:09:45,289 [INFO] Base - [id:1058959277] Fetched 3900 reviews (3900 fetched in total)\n",
      "2021-12-04 17:09:51,432 [INFO] Base - [id:1058959277] Fetched 4020 reviews (4020 fetched in total)\n",
      "2021-12-04 17:09:58,040 [INFO] Base - [id:1058959277] Fetched 4140 reviews (4140 fetched in total)\n",
      "2021-12-04 17:10:04,197 [INFO] Base - [id:1058959277] Fetched 4260 reviews (4260 fetched in total)\n",
      "2021-12-04 17:10:10,378 [INFO] Base - [id:1058959277] Fetched 4380 reviews (4380 fetched in total)\n",
      "2021-12-04 17:10:16,982 [INFO] Base - [id:1058959277] Fetched 4500 reviews (4500 fetched in total)\n",
      "2021-12-04 17:10:23,143 [INFO] Base - [id:1058959277] Fetched 4620 reviews (4620 fetched in total)\n",
      "2021-12-04 17:10:29,512 [INFO] Base - [id:1058959277] Fetched 4740 reviews (4740 fetched in total)\n",
      "2021-12-04 17:10:36,239 [INFO] Base - [id:1058959277] Fetched 4860 reviews (4860 fetched in total)\n",
      "2021-12-04 17:10:42,387 [INFO] Base - [id:1058959277] Fetched 4980 reviews (4980 fetched in total)\n",
      "2021-12-04 17:10:48,532 [INFO] Base - [id:1058959277] Fetched 5100 reviews (5100 fetched in total)\n",
      "2021-12-04 17:10:54,797 [INFO] Base - [id:1058959277] Fetched 5220 reviews (5220 fetched in total)\n",
      "2021-12-04 17:11:01,541 [INFO] Base - [id:1058959277] Fetched 5340 reviews (5340 fetched in total)\n",
      "2021-12-04 17:11:07,845 [INFO] Base - [id:1058959277] Fetched 5460 reviews (5460 fetched in total)\n",
      "2021-12-04 17:11:13,975 [INFO] Base - [id:1058959277] Fetched 5580 reviews (5580 fetched in total)\n",
      "2021-12-04 17:11:20,836 [INFO] Base - [id:1058959277] Fetched 5700 reviews (5700 fetched in total)\n",
      "2021-12-04 17:11:27,276 [INFO] Base - [id:1058959277] Fetched 5820 reviews (5820 fetched in total)\n",
      "2021-12-04 17:11:33,442 [INFO] Base - [id:1058959277] Fetched 5940 reviews (5940 fetched in total)\n",
      "2021-12-04 17:11:40,107 [INFO] Base - [id:1058959277] Fetched 6060 reviews (6060 fetched in total)\n",
      "2021-12-04 17:11:46,236 [INFO] Base - [id:1058959277] Fetched 6180 reviews (6180 fetched in total)\n",
      "2021-12-04 17:11:52,383 [INFO] Base - [id:1058959277] Fetched 6300 reviews (6300 fetched in total)\n",
      "2021-12-04 17:11:58,599 [INFO] Base - [id:1058959277] Fetched 6420 reviews (6420 fetched in total)\n",
      "2021-12-04 17:12:05,184 [INFO] Base - [id:1058959277] Fetched 6540 reviews (6540 fetched in total)\n",
      "2021-12-04 17:12:11,299 [INFO] Base - [id:1058959277] Fetched 6660 reviews (6660 fetched in total)\n",
      "2021-12-04 17:12:17,432 [INFO] Base - [id:1058959277] Fetched 6780 reviews (6780 fetched in total)\n",
      "2021-12-04 17:12:24,028 [INFO] Base - [id:1058959277] Fetched 6900 reviews (6900 fetched in total)\n",
      "2021-12-04 17:12:30,157 [INFO] Base - [id:1058959277] Fetched 7020 reviews (7020 fetched in total)\n",
      "2021-12-04 17:12:36,269 [INFO] Base - [id:1058959277] Fetched 7140 reviews (7140 fetched in total)\n",
      "2021-12-04 17:12:42,833 [INFO] Base - [id:1058959277] Fetched 7260 reviews (7260 fetched in total)\n",
      "2021-12-04 17:12:49,204 [INFO] Base - [id:1058959277] Fetched 7380 reviews (7380 fetched in total)\n",
      "2021-12-04 17:12:55,340 [INFO] Base - [id:1058959277] Fetched 7500 reviews (7500 fetched in total)\n",
      "2021-12-04 17:13:01,468 [INFO] Base - [id:1058959277] Fetched 7620 reviews (7620 fetched in total)\n",
      "2021-12-04 17:13:08,068 [INFO] Base - [id:1058959277] Fetched 7740 reviews (7740 fetched in total)\n",
      "2021-12-04 17:13:14,193 [INFO] Base - [id:1058959277] Fetched 7860 reviews (7860 fetched in total)\n",
      "2021-12-04 17:13:20,345 [INFO] Base - [id:1058959277] Fetched 7980 reviews (7980 fetched in total)\n",
      "2021-12-04 17:13:26,928 [INFO] Base - [id:1058959277] Fetched 8100 reviews (8100 fetched in total)\n",
      "2021-12-04 17:13:33,598 [INFO] Base - [id:1058959277] Fetched 8220 reviews (8220 fetched in total)\n",
      "2021-12-04 17:13:39,750 [INFO] Base - [id:1058959277] Fetched 8340 reviews (8340 fetched in total)\n",
      "2021-12-04 17:13:46,080 [INFO] Base - [id:1058959277] Fetched 8460 reviews (8460 fetched in total)\n",
      "2021-12-04 17:13:52,441 [INFO] Base - [id:1058959277] Fetched 8580 reviews (8580 fetched in total)\n",
      "2021-12-04 17:13:58,590 [INFO] Base - [id:1058959277] Fetched 8700 reviews (8700 fetched in total)\n",
      "2021-12-04 17:14:04,700 [INFO] Base - [id:1058959277] Fetched 8820 reviews (8820 fetched in total)\n",
      "2021-12-04 17:14:11,156 [INFO] Base - [id:1058959277] Fetched 8940 reviews (8940 fetched in total)\n",
      "2021-12-04 17:14:17,657 [INFO] Base - [id:1058959277] Fetched 9040 reviews (9040 fetched in total)\n",
      "2021-12-04 17:14:23,829 [INFO] Base - [id:1058959277] Fetched 9160 reviews (9160 fetched in total)\n",
      "2021-12-04 17:14:30,757 [INFO] Base - [id:1058959277] Fetched 9280 reviews (9280 fetched in total)\n",
      "2021-12-04 17:14:36,884 [INFO] Base - [id:1058959277] Fetched 9400 reviews (9400 fetched in total)\n",
      "2021-12-04 17:14:43,017 [INFO] Base - [id:1058959277] Fetched 9520 reviews (9520 fetched in total)\n",
      "2021-12-04 17:14:49,359 [INFO] Base - [id:1058959277] Fetched 9640 reviews (9640 fetched in total)\n",
      "2021-12-04 17:14:55,711 [INFO] Base - [id:1058959277] Fetched 9760 reviews (9760 fetched in total)\n"
     ]
    },
    {
     "name": "stderr",
     "output_type": "stream",
     "text": [
      "2021-12-04 17:15:02,099 [INFO] Base - [id:1058959277] Fetched 9880 reviews (9880 fetched in total)\n",
      "2021-12-04 17:15:08,181 [INFO] Base - [id:1058959277] Fetched 10000 reviews (10000 fetched in total)\n"
     ]
    }
   ],
   "source": [
    "from app_store_scraper import AppStore\n",
    "import pandas as pd\n",
    "import numpy as np\n",
    "import json\n",
    "import datetime as dt\n",
    "import random\n",
    "\n",
    "\n",
    "ue = AppStore(country=\"au\", app_name=\"Ubereats\")\n",
    "\n",
    "ue.review(how_many=10000)"
   ]
  },
  {
   "cell_type": "code",
   "execution_count": 4,
   "id": "recreational-settle",
   "metadata": {},
   "outputs": [
    {
     "name": "stderr",
     "output_type": "stream",
     "text": [
      "2021-12-04 17:16:50,446 [INFO] Base - [id:1058959277] Fetched 100 reviews (10100 fetched in total)\n",
      "2021-12-04 17:16:57,302 [INFO] Base - [id:1058959277] Fetched 240 reviews (10240 fetched in total)\n",
      "2021-12-04 17:17:04,140 [INFO] Base - [id:1058959277] Fetched 380 reviews (10380 fetched in total)\n",
      "2021-12-04 17:17:10,925 [INFO] Base - [id:1058959277] Fetched 500 reviews (10500 fetched in total)\n",
      "2021-12-04 17:17:17,060 [INFO] Base - [id:1058959277] Fetched 620 reviews (10620 fetched in total)\n",
      "2021-12-04 17:17:23,189 [INFO] Base - [id:1058959277] Fetched 740 reviews (10740 fetched in total)\n",
      "2021-12-04 17:17:29,804 [INFO] Base - [id:1058959277] Fetched 860 reviews (10860 fetched in total)\n",
      "2021-12-04 17:17:36,141 [INFO] Base - [id:1058959277] Fetched 980 reviews (10980 fetched in total)\n",
      "2021-12-04 17:17:42,291 [INFO] Base - [id:1058959277] Fetched 1100 reviews (11100 fetched in total)\n",
      "2021-12-04 17:17:48,650 [INFO] Base - [id:1058959277] Fetched 1220 reviews (11220 fetched in total)\n",
      "2021-12-04 17:17:55,012 [INFO] Base - [id:1058959277] Fetched 1340 reviews (11340 fetched in total)\n",
      "2021-12-04 17:18:01,682 [INFO] Base - [id:1058959277] Fetched 1460 reviews (11460 fetched in total)\n",
      "2021-12-04 17:18:07,817 [INFO] Base - [id:1058959277] Fetched 1580 reviews (11580 fetched in total)\n",
      "2021-12-04 17:18:14,382 [INFO] Base - [id:1058959277] Fetched 1700 reviews (11700 fetched in total)\n",
      "2021-12-04 17:18:17,672 [INFO] Base - [id:1058959277] Fetched 1760 reviews (11760 fetched in total)\n"
     ]
    }
   ],
   "source": [
    "ue.review(how_many=10000)"
   ]
  },
  {
   "cell_type": "code",
   "execution_count": 6,
   "id": "powered-camcorder",
   "metadata": {},
   "outputs": [
    {
     "name": "stderr",
     "output_type": "stream",
     "text": [
      "2021-12-04 17:28:08,560 [INFO] Base - Searching for app id\n",
      "2021-12-04 17:28:12,920 [INFO] Base - Initialised: AppStore('au', 'doordash', 719972451)\n",
      "2021-12-04 17:28:12,921 [INFO] Base - Ready to fetch reviews from: https://apps.apple.com/au/app/doordash/id719972451\n",
      "2021-12-04 17:28:17,953 [INFO] Base - [id:719972451] Fetched 100 reviews (100 fetched in total)\n",
      "2021-12-04 17:28:24,756 [INFO] Base - [id:719972451] Fetched 240 reviews (240 fetched in total)\n",
      "2021-12-04 17:28:31,504 [INFO] Base - [id:719972451] Fetched 380 reviews (380 fetched in total)\n",
      "2021-12-04 17:28:37,769 [INFO] Base - [id:719972451] Fetched 500 reviews (500 fetched in total)\n",
      "2021-12-04 17:28:44,526 [INFO] Base - [id:719972451] Fetched 640 reviews (640 fetched in total)\n",
      "2021-12-04 17:28:51,195 [INFO] Base - [id:719972451] Fetched 760 reviews (760 fetched in total)\n",
      "2021-12-04 17:28:57,656 [INFO] Base - [id:719972451] Fetched 880 reviews (880 fetched in total)\n",
      "2021-12-04 17:29:04,391 [INFO] Base - [id:719972451] Fetched 1020 reviews (1020 fetched in total)\n",
      "2021-12-04 17:29:11,140 [INFO] Base - [id:719972451] Fetched 1160 reviews (1160 fetched in total)\n",
      "2021-12-04 17:29:17,152 [INFO] Base - [id:719972451] Fetched 1280 reviews (1280 fetched in total)\n",
      "2021-12-04 17:29:24,101 [INFO] Base - [id:719972451] Fetched 1420 reviews (1420 fetched in total)\n",
      "2021-12-04 17:29:30,124 [INFO] Base - [id:719972451] Fetched 1540 reviews (1540 fetched in total)\n",
      "2021-12-04 17:29:36,878 [INFO] Base - [id:719972451] Fetched 1680 reviews (1680 fetched in total)\n",
      "2021-12-04 17:29:42,898 [INFO] Base - [id:719972451] Fetched 1800 reviews (1800 fetched in total)\n",
      "2021-12-04 17:29:49,631 [INFO] Base - [id:719972451] Fetched 1940 reviews (1940 fetched in total)\n",
      "2021-12-04 17:29:56,352 [INFO] Base - [id:719972451] Fetched 2080 reviews (2080 fetched in total)\n",
      "2021-12-04 17:30:02,876 [INFO] Base - [id:719972451] Fetched 2200 reviews (2200 fetched in total)\n",
      "2021-12-04 17:30:09,612 [INFO] Base - [id:719972451] Fetched 2340 reviews (2340 fetched in total)\n",
      "2021-12-04 17:30:15,416 [INFO] Base - [id:719972451] Fetched 2449 reviews (2449 fetched in total)\n"
     ]
    }
   ],
   "source": [
    "dd = AppStore(country=\"au\", app_name=\"DoorDash\")\n",
    "\n",
    "dd.review(how_many=10000)"
   ]
  },
  {
   "cell_type": "code",
   "execution_count": 7,
   "id": "turned-mechanics",
   "metadata": {},
   "outputs": [
    {
     "name": "stderr",
     "output_type": "stream",
     "text": [
      "2021-12-04 17:31:32,711 [INFO] Base - Searching for app id\n",
      "2021-12-04 17:31:36,952 [INFO] Base - Initialised: AppStore('au', 'deliveroo', 1001501844)\n",
      "2021-12-04 17:31:36,954 [INFO] Base - Ready to fetch reviews from: https://apps.apple.com/au/app/deliveroo/id1001501844\n",
      "2021-12-04 17:31:42,022 [INFO] Base - [id:1001501844] Fetched 100 reviews (100 fetched in total)\n",
      "2021-12-04 17:31:48,289 [INFO] Base - [id:1001501844] Fetched 220 reviews (220 fetched in total)\n",
      "2021-12-04 17:31:55,042 [INFO] Base - [id:1001501844] Fetched 360 reviews (360 fetched in total)\n",
      "2021-12-04 17:32:01,250 [INFO] Base - [id:1001501844] Fetched 480 reviews (480 fetched in total)\n",
      "2021-12-04 17:32:07,993 [INFO] Base - [id:1001501844] Fetched 620 reviews (620 fetched in total)\n",
      "2021-12-04 17:32:14,768 [INFO] Base - [id:1001501844] Fetched 760 reviews (760 fetched in total)\n",
      "2021-12-04 17:32:20,780 [INFO] Base - [id:1001501844] Fetched 880 reviews (880 fetched in total)\n",
      "2021-12-04 17:32:27,607 [INFO] Base - [id:1001501844] Fetched 1020 reviews (1020 fetched in total)\n",
      "2021-12-04 17:32:34,371 [INFO] Base - [id:1001501844] Fetched 1160 reviews (1160 fetched in total)\n",
      "2021-12-04 17:32:40,831 [INFO] Base - [id:1001501844] Fetched 1280 reviews (1280 fetched in total)\n",
      "2021-12-04 17:32:47,819 [INFO] Base - [id:1001501844] Fetched 1420 reviews (1420 fetched in total)\n",
      "2021-12-04 17:32:54,593 [INFO] Base - [id:1001501844] Fetched 1560 reviews (1560 fetched in total)\n",
      "2021-12-04 17:33:01,556 [INFO] Base - [id:1001501844] Fetched 1700 reviews (1700 fetched in total)\n",
      "2021-12-04 17:33:07,800 [INFO] Base - [id:1001501844] Fetched 1820 reviews (1820 fetched in total)\n",
      "2021-12-04 17:33:14,603 [INFO] Base - [id:1001501844] Fetched 1960 reviews (1960 fetched in total)\n",
      "2021-12-04 17:33:20,592 [INFO] Base - [id:1001501844] Fetched 2080 reviews (2080 fetched in total)\n",
      "2021-12-04 17:33:27,258 [INFO] Base - [id:1001501844] Fetched 2200 reviews (2200 fetched in total)\n",
      "2021-12-04 17:33:33,294 [INFO] Base - [id:1001501844] Fetched 2320 reviews (2320 fetched in total)\n",
      "2021-12-04 17:33:39,347 [INFO] Base - [id:1001501844] Fetched 2440 reviews (2440 fetched in total)\n",
      "2021-12-04 17:33:45,637 [INFO] Base - [id:1001501844] Fetched 2560 reviews (2560 fetched in total)\n",
      "2021-12-04 17:33:52,036 [INFO] Base - [id:1001501844] Fetched 2680 reviews (2680 fetched in total)\n",
      "2021-12-04 17:33:58,083 [INFO] Base - [id:1001501844] Fetched 2800 reviews (2800 fetched in total)\n",
      "2021-12-04 17:34:04,168 [INFO] Base - [id:1001501844] Fetched 2920 reviews (2920 fetched in total)\n",
      "2021-12-04 17:34:10,933 [INFO] Base - [id:1001501844] Fetched 3040 reviews (3040 fetched in total)\n",
      "2021-12-04 17:34:11,941 [INFO] Base - [id:1001501844] Fetched 3046 reviews (3046 fetched in total)\n"
     ]
    }
   ],
   "source": [
    "dv = AppStore(country=\"au\", app_name=\"deliveroo\")\n",
    "\n",
    "dv.review(how_many=10000)"
   ]
  },
  {
   "cell_type": "code",
   "execution_count": 9,
   "id": "suburban-chosen",
   "metadata": {},
   "outputs": [
    {
     "name": "stderr",
     "output_type": "stream",
     "text": [
      "2021-12-04 17:38:46,397 [INFO] Base - Searching for app id\n",
      "2021-12-04 17:38:50,495 [INFO] Base - Initialised: AppStore('au', 'foodpanda', 758103884)\n",
      "2021-12-04 17:38:50,496 [INFO] Base - Ready to fetch reviews from: https://apps.apple.com/au/app/foodpanda/id758103884\n",
      "2021-12-04 17:38:55,773 [INFO] Base - [id:758103884] Fetched 100 reviews (100 fetched in total)\n",
      "2021-12-04 17:39:01,858 [INFO] Base - [id:758103884] Fetched 220 reviews (220 fetched in total)\n",
      "2021-12-04 17:39:07,925 [INFO] Base - [id:758103884] Fetched 335 reviews (335 fetched in total)\n"
     ]
    }
   ],
   "source": [
    "fp = AppStore(country=\"au\", app_name=\"foodpanda\")\n",
    "\n",
    "fp.review(how_many=10000)"
   ]
  },
  {
   "cell_type": "code",
   "execution_count": 11,
   "id": "agreed-smith",
   "metadata": {},
   "outputs": [
    {
     "name": "stderr",
     "output_type": "stream",
     "text": [
      "2021-12-04 18:07:44,769 [INFO] Base - Searching for app id\n",
      "2021-12-04 18:08:10,142 [INFO] Base - Initialised: AppStore('au', 'menulog', 327982905)\n",
      "2021-12-04 18:08:10,142 [INFO] Base - Ready to fetch reviews from: https://apps.apple.com/au/app/menulog/id327982905\n",
      "2021-12-04 18:08:15,323 [INFO] Base - [id:327982905] Fetched 100 reviews (100 fetched in total)\n",
      "2021-12-04 18:08:22,225 [INFO] Base - [id:327982905] Fetched 240 reviews (240 fetched in total)\n",
      "2021-12-04 18:08:29,123 [INFO] Base - [id:327982905] Fetched 380 reviews (380 fetched in total)\n",
      "2021-12-04 18:08:35,487 [INFO] Base - [id:327982905] Fetched 500 reviews (500 fetched in total)\n",
      "2021-12-04 18:08:42,398 [INFO] Base - [id:327982905] Fetched 640 reviews (640 fetched in total)\n",
      "2021-12-04 18:08:49,340 [INFO] Base - [id:327982905] Fetched 780 reviews (780 fetched in total)\n",
      "2021-12-04 18:08:55,711 [INFO] Base - [id:327982905] Fetched 900 reviews (900 fetched in total)\n",
      "2021-12-04 18:09:02,633 [INFO] Base - [id:327982905] Fetched 1040 reviews (1040 fetched in total)\n",
      "2021-12-04 18:09:09,554 [INFO] Base - [id:327982905] Fetched 1180 reviews (1180 fetched in total)\n",
      "2021-12-04 18:09:16,340 [INFO] Base - [id:327982905] Fetched 1300 reviews (1300 fetched in total)\n",
      "2021-12-04 18:09:23,236 [INFO] Base - [id:327982905] Fetched 1440 reviews (1440 fetched in total)\n",
      "2021-12-04 18:09:30,179 [INFO] Base - [id:327982905] Fetched 1580 reviews (1580 fetched in total)\n",
      "2021-12-04 18:09:36,381 [INFO] Base - [id:327982905] Fetched 1700 reviews (1700 fetched in total)\n",
      "2021-12-04 18:09:42,996 [INFO] Base - [id:327982905] Fetched 1840 reviews (1840 fetched in total)\n",
      "2021-12-04 18:09:49,618 [INFO] Base - [id:327982905] Fetched 1980 reviews (1980 fetched in total)\n",
      "2021-12-04 18:09:56,678 [INFO] Base - [id:327982905] Fetched 2120 reviews (2120 fetched in total)\n",
      "2021-12-04 18:10:03,296 [INFO] Base - [id:327982905] Fetched 2260 reviews (2260 fetched in total)\n",
      "2021-12-04 18:10:10,061 [INFO] Base - [id:327982905] Fetched 2380 reviews (2380 fetched in total)\n",
      "2021-12-04 18:10:16,937 [INFO] Base - [id:327982905] Fetched 2520 reviews (2520 fetched in total)\n",
      "2021-12-04 18:10:23,535 [INFO] Base - [id:327982905] Fetched 2660 reviews (2660 fetched in total)\n",
      "2021-12-04 18:10:30,162 [INFO] Base - [id:327982905] Fetched 2800 reviews (2800 fetched in total)\n",
      "2021-12-04 18:10:37,200 [INFO] Base - [id:327982905] Fetched 2940 reviews (2940 fetched in total)\n",
      "2021-12-04 18:10:44,111 [INFO] Base - [id:327982905] Fetched 3080 reviews (3080 fetched in total)\n",
      "2021-12-04 18:10:50,725 [INFO] Base - [id:327982905] Fetched 3220 reviews (3220 fetched in total)\n",
      "2021-12-04 18:10:57,348 [INFO] Base - [id:327982905] Fetched 3360 reviews (3360 fetched in total)\n",
      "2021-12-04 18:11:04,434 [INFO] Base - [id:327982905] Fetched 3500 reviews (3500 fetched in total)\n",
      "2021-12-04 18:11:11,042 [INFO] Base - [id:327982905] Fetched 3640 reviews (3640 fetched in total)\n",
      "2021-12-04 18:11:17,695 [INFO] Base - [id:327982905] Fetched 3780 reviews (3780 fetched in total)\n",
      "2021-12-04 18:11:24,539 [INFO] Base - [id:327982905] Fetched 3920 reviews (3920 fetched in total)\n",
      "2021-12-04 18:11:31,255 [INFO] Base - [id:327982905] Fetched 4060 reviews (4060 fetched in total)\n",
      "2021-12-04 18:11:37,314 [INFO] Base - [id:327982905] Fetched 4180 reviews (4180 fetched in total)\n",
      "2021-12-04 18:11:43,902 [INFO] Base - [id:327982905] Fetched 4300 reviews (4300 fetched in total)\n",
      "2021-12-04 18:11:50,849 [INFO] Base - [id:327982905] Fetched 4440 reviews (4440 fetched in total)\n",
      "2021-12-04 18:11:57,001 [INFO] Base - [id:327982905] Fetched 4560 reviews (4560 fetched in total)\n",
      "2021-12-04 18:12:03,633 [INFO] Base - [id:327982905] Fetched 4680 reviews (4680 fetched in total)\n",
      "2021-12-04 18:12:10,552 [INFO] Base - [id:327982905] Fetched 4820 reviews (4820 fetched in total)\n",
      "2021-12-04 18:12:17,514 [INFO] Base - [id:327982905] Fetched 4960 reviews (4960 fetched in total)\n",
      "2021-12-04 18:12:23,757 [INFO] Base - [id:327982905] Fetched 5080 reviews (5080 fetched in total)\n",
      "2021-12-04 18:12:30,941 [INFO] Base - [id:327982905] Fetched 5220 reviews (5220 fetched in total)\n",
      "2021-12-04 18:12:37,880 [INFO] Base - [id:327982905] Fetched 5360 reviews (5360 fetched in total)\n",
      "2021-12-04 18:12:45,260 [INFO] Base - [id:327982905] Fetched 5500 reviews (5500 fetched in total)\n",
      "2021-12-04 18:12:52,408 [INFO] Base - [id:327982905] Fetched 5640 reviews (5640 fetched in total)\n",
      "2021-12-04 18:12:59,333 [INFO] Base - [id:327982905] Fetched 5780 reviews (5780 fetched in total)\n",
      "2021-12-04 18:13:06,474 [INFO] Base - [id:327982905] Fetched 5920 reviews (5920 fetched in total)\n",
      "2021-12-04 18:13:13,604 [INFO] Base - [id:327982905] Fetched 6060 reviews (6060 fetched in total)\n",
      "2021-12-04 18:13:20,578 [INFO] Base - [id:327982905] Fetched 6200 reviews (6200 fetched in total)\n",
      "2021-12-04 18:13:26,630 [INFO] Base - [id:327982905] Fetched 6320 reviews (6320 fetched in total)\n",
      "2021-12-04 18:13:31,973 [INFO] Base - [id:327982905] Fetched 6420 reviews (6420 fetched in total)\n"
     ]
    }
   ],
   "source": [
    "ml = AppStore(country=\"au\", app_name=\"menulog\")\n",
    "\n",
    "ml.review(how_many=10000)"
   ]
  },
  {
   "cell_type": "code",
   "execution_count": 39,
   "id": "lasting-cocktail",
   "metadata": {},
   "outputs": [
    {
     "name": "stderr",
     "output_type": "stream",
     "text": [
      "2021-12-01 23:57:55,617 [INFO] Base - Searching for app id\n",
      "2021-12-01 23:58:00,234 [INFO] Base - Initialised: AppStore('sg', 'deliveroo', 1001501844)\n",
      "2021-12-01 23:58:00,235 [INFO] Base - Ready to fetch reviews from: https://apps.apple.com/sg/app/deliveroo/id1001501844\n",
      "2021-12-01 23:58:05,311 [INFO] Base - [id:1001501844] Fetched 100 reviews (100 fetched in total)\n",
      "2021-12-01 23:58:12,226 [INFO] Base - [id:1001501844] Fetched 240 reviews (240 fetched in total)\n",
      "2021-12-01 23:58:18,239 [INFO] Base - [id:1001501844] Fetched 360 reviews (360 fetched in total)\n",
      "2021-12-01 23:58:24,466 [INFO] Base - [id:1001501844] Fetched 480 reviews (480 fetched in total)\n",
      "2021-12-01 23:58:31,222 [INFO] Base - [id:1001501844] Fetched 620 reviews (620 fetched in total)\n",
      "2021-12-01 23:58:38,053 [INFO] Base - [id:1001501844] Fetched 760 reviews (760 fetched in total)\n",
      "2021-12-01 23:58:45,085 [INFO] Base - [id:1001501844] Fetched 880 reviews (880 fetched in total)\n",
      "2021-12-01 23:58:51,737 [INFO] Base - [id:1001501844] Fetched 1000 reviews (1000 fetched in total)\n",
      "2021-12-01 23:58:58,519 [INFO] Base - [id:1001501844] Fetched 1140 reviews (1140 fetched in total)\n",
      "2021-12-01 23:59:05,039 [INFO] Base - [id:1001501844] Fetched 1260 reviews (1260 fetched in total)\n",
      "2021-12-01 23:59:11,147 [INFO] Base - [id:1001501844] Fetched 1380 reviews (1380 fetched in total)\n",
      "2021-12-01 23:59:17,781 [INFO] Base - [id:1001501844] Fetched 1500 reviews (1500 fetched in total)\n",
      "2021-12-01 23:59:23,189 [INFO] Base - [id:1001501844] Fetched 1564 reviews (1564 fetched in total)\n"
     ]
    }
   ],
   "source": [
    "dv = AppStore(country=\"sg\", app_name=\"deliveroo\")\n",
    "\n",
    "dv.review(how_many=10000)"
   ]
  },
  {
   "cell_type": "code",
   "execution_count": 40,
   "id": "forward-country",
   "metadata": {},
   "outputs": [
    {
     "name": "stderr",
     "output_type": "stream",
     "text": [
      "2021-12-01 23:59:23,209 [INFO] Base - Searching for app id\n",
      "2021-12-01 23:59:29,106 [INFO] Base - Initialised: AppStore('sg', 'grabfood', 647268330)\n",
      "2021-12-01 23:59:29,107 [INFO] Base - Ready to fetch reviews from: https://apps.apple.com/sg/app/grabfood/id647268330\n",
      "2021-12-01 23:59:34,421 [INFO] Base - [id:647268330] Fetched 100 reviews (100 fetched in total)\n",
      "2021-12-01 23:59:40,473 [INFO] Base - [id:647268330] Fetched 220 reviews (220 fetched in total)\n",
      "2021-12-01 23:59:46,904 [INFO] Base - [id:647268330] Fetched 340 reviews (340 fetched in total)\n",
      "2021-12-01 23:59:53,474 [INFO] Base - [id:647268330] Fetched 460 reviews (460 fetched in total)\n",
      "2021-12-01 23:59:59,561 [INFO] Base - [id:647268330] Fetched 580 reviews (580 fetched in total)\n",
      "2021-12-02 00:00:06,066 [INFO] Base - [id:647268330] Fetched 700 reviews (700 fetched in total)\n",
      "2021-12-02 00:00:12,357 [INFO] Base - [id:647268330] Fetched 820 reviews (820 fetched in total)\n",
      "2021-12-02 00:00:18,739 [INFO] Base - [id:647268330] Fetched 940 reviews (940 fetched in total)\n",
      "2021-12-02 00:00:25,098 [INFO] Base - [id:647268330] Fetched 1060 reviews (1060 fetched in total)\n",
      "2021-12-02 00:00:32,332 [INFO] Base - [id:647268330] Fetched 1200 reviews (1200 fetched in total)\n",
      "2021-12-02 00:00:39,571 [INFO] Base - [id:647268330] Fetched 1340 reviews (1340 fetched in total)\n",
      "2021-12-02 00:00:45,649 [INFO] Base - [id:647268330] Fetched 1460 reviews (1460 fetched in total)\n",
      "2021-12-02 00:00:52,442 [INFO] Base - [id:647268330] Fetched 1600 reviews (1600 fetched in total)\n",
      "2021-12-02 00:00:59,501 [INFO] Base - [id:647268330] Fetched 1740 reviews (1740 fetched in total)\n",
      "2021-12-02 00:01:05,835 [INFO] Base - [id:647268330] Fetched 1860 reviews (1860 fetched in total)\n",
      "2021-12-02 00:01:12,171 [INFO] Base - [id:647268330] Fetched 1980 reviews (1980 fetched in total)\n",
      "2021-12-02 00:01:18,594 [INFO] Base - [id:647268330] Fetched 2100 reviews (2100 fetched in total)\n",
      "2021-12-02 00:01:24,747 [INFO] Base - [id:647268330] Fetched 2220 reviews (2220 fetched in total)\n",
      "2021-12-02 00:01:31,089 [INFO] Base - [id:647268330] Fetched 2340 reviews (2340 fetched in total)\n",
      "2021-12-02 00:01:37,626 [INFO] Base - [id:647268330] Fetched 2460 reviews (2460 fetched in total)\n",
      "2021-12-02 00:01:43,652 [INFO] Base - [id:647268330] Fetched 2580 reviews (2580 fetched in total)\n",
      "2021-12-02 00:01:49,731 [INFO] Base - [id:647268330] Fetched 2700 reviews (2700 fetched in total)\n",
      "2021-12-02 00:01:55,937 [INFO] Base - [id:647268330] Fetched 2820 reviews (2820 fetched in total)\n",
      "2021-12-02 00:02:02,475 [INFO] Base - [id:647268330] Fetched 2940 reviews (2940 fetched in total)\n",
      "2021-12-02 00:02:09,581 [INFO] Base - [id:647268330] Fetched 3060 reviews (3060 fetched in total)\n",
      "2021-12-02 00:02:16,774 [INFO] Base - [id:647268330] Fetched 3200 reviews (3200 fetched in total)\n",
      "2021-12-02 00:02:23,196 [INFO] Base - [id:647268330] Fetched 3320 reviews (3320 fetched in total)\n",
      "2021-12-02 00:02:29,593 [INFO] Base - [id:647268330] Fetched 3440 reviews (3440 fetched in total)\n",
      "2021-12-02 00:02:35,944 [INFO] Base - [id:647268330] Fetched 3560 reviews (3560 fetched in total)\n",
      "2021-12-02 00:02:42,441 [INFO] Base - [id:647268330] Fetched 3680 reviews (3680 fetched in total)\n",
      "2021-12-02 00:02:49,299 [INFO] Base - [id:647268330] Fetched 3820 reviews (3820 fetched in total)\n",
      "2021-12-02 00:02:55,602 [INFO] Base - [id:647268330] Fetched 3940 reviews (3940 fetched in total)\n",
      "2021-12-02 00:03:01,651 [INFO] Base - [id:647268330] Fetched 4060 reviews (4060 fetched in total)\n",
      "2021-12-02 00:03:08,433 [INFO] Base - [id:647268330] Fetched 4200 reviews (4200 fetched in total)\n",
      "2021-12-02 00:03:14,778 [INFO] Base - [id:647268330] Fetched 4320 reviews (4320 fetched in total)\n",
      "2021-12-02 00:03:21,067 [INFO] Base - [id:647268330] Fetched 4440 reviews (4440 fetched in total)\n",
      "2021-12-02 00:03:27,885 [INFO] Base - [id:647268330] Fetched 4580 reviews (4580 fetched in total)\n",
      "2021-12-02 00:03:34,988 [INFO] Base - [id:647268330] Fetched 4720 reviews (4720 fetched in total)\n",
      "2021-12-02 00:03:42,283 [INFO] Base - [id:647268330] Fetched 4840 reviews (4840 fetched in total)\n",
      "2021-12-02 00:03:49,192 [INFO] Base - [id:647268330] Fetched 4980 reviews (4980 fetched in total)\n",
      "2021-12-02 00:03:55,463 [INFO] Base - [id:647268330] Fetched 5100 reviews (5100 fetched in total)\n",
      "2021-12-02 00:04:02,749 [INFO] Base - [id:647268330] Fetched 5240 reviews (5240 fetched in total)\n",
      "2021-12-02 00:04:09,626 [INFO] Base - [id:647268330] Fetched 5380 reviews (5380 fetched in total)\n",
      "2021-12-02 00:04:15,707 [INFO] Base - [id:647268330] Fetched 5500 reviews (5500 fetched in total)\n",
      "2021-12-02 00:04:22,769 [INFO] Base - [id:647268330] Fetched 5620 reviews (5620 fetched in total)\n",
      "2021-12-02 00:04:29,820 [INFO] Base - [id:647268330] Fetched 5760 reviews (5760 fetched in total)\n",
      "2021-12-02 00:04:36,488 [INFO] Base - [id:647268330] Fetched 5880 reviews (5880 fetched in total)\n",
      "2021-12-02 00:04:43,737 [INFO] Base - [id:647268330] Fetched 6000 reviews (6000 fetched in total)\n",
      "2021-12-02 00:04:50,945 [INFO] Base - [id:647268330] Fetched 6140 reviews (6140 fetched in total)\n",
      "2021-12-02 00:04:57,021 [INFO] Base - [id:647268330] Fetched 6260 reviews (6260 fetched in total)\n",
      "2021-12-02 00:05:03,385 [INFO] Base - [id:647268330] Fetched 6360 reviews (6360 fetched in total)\n",
      "2021-12-02 00:05:09,791 [INFO] Base - [id:647268330] Fetched 6480 reviews (6480 fetched in total)\n",
      "2021-12-02 00:05:16,621 [INFO] Base - [id:647268330] Fetched 6620 reviews (6620 fetched in total)\n",
      "2021-12-02 00:05:22,927 [INFO] Base - [id:647268330] Fetched 6740 reviews (6740 fetched in total)\n",
      "2021-12-02 00:05:29,253 [INFO] Base - [id:647268330] Fetched 6860 reviews (6860 fetched in total)\n",
      "2021-12-02 00:05:35,772 [INFO] Base - [id:647268330] Fetched 6980 reviews (6980 fetched in total)\n",
      "2021-12-02 00:05:42,572 [INFO] Base - [id:647268330] Fetched 7100 reviews (7100 fetched in total)\n",
      "2021-12-02 00:05:48,885 [INFO] Base - [id:647268330] Fetched 7220 reviews (7220 fetched in total)\n",
      "2021-12-02 00:05:55,778 [INFO] Base - [id:647268330] Fetched 7360 reviews (7360 fetched in total)\n",
      "2021-12-02 00:06:02,671 [INFO] Base - [id:647268330] Fetched 7500 reviews (7500 fetched in total)\n",
      "2021-12-02 00:06:08,484 [INFO] Base - [id:647268330] Fetched 7594 reviews (7594 fetched in total)\n"
     ]
    }
   ],
   "source": [
    "gf = AppStore(country=\"sg\", app_name=\"grabfood\")\n",
    "\n",
    "gf.review(how_many=10000)"
   ]
  },
  {
   "cell_type": "code",
   "execution_count": 45,
   "id": "interior-caution",
   "metadata": {},
   "outputs": [],
   "source": [
    "fp_df=pd.DataFrame(fp.reviews)\n",
    "fp_df['app']='FoodPanda'\n",
    "\n",
    "gf_df=pd.DataFrame(gf.reviews)\n",
    "gf_df['app']='GrabFood'\n",
    "\n",
    "dv_df=pd.DataFrame(dv.reviews)\n",
    "dv_df['app']='Deliveroo'\n"
   ]
  },
  {
   "cell_type": "code",
   "execution_count": 12,
   "id": "leading-store",
   "metadata": {},
   "outputs": [],
   "source": [
    "#AU\n",
    "dd_df=pd.DataFrame(dd.reviews)\n",
    "dd_df['app']='DoorDash'\n",
    "\n",
    "ue_df=pd.DataFrame(ue.reviews)\n",
    "ue_df['app']='UberEats'\n",
    "\n",
    "dv_df=pd.DataFrame(dv.reviews)\n",
    "dv_df['app']='Deliveroo'\n",
    "\n",
    "ml_df=pd.DataFrame(ml.reviews)\n",
    "ml_df['app']='MenuLog'\n",
    "\n",
    "df=pd.concat([dd_df,ue_df,dv_df, ml_df])\n",
    "df.to_csv('apple_app_store_reviews_au.csv')"
   ]
  },
  {
   "cell_type": "code",
   "execution_count": 59,
   "id": "eligible-metabolism",
   "metadata": {},
   "outputs": [],
   "source": [
    "df=pd.concat([gf_df,dv_df,fp_df])\n",
    "df.to_csv('apple_app_store_reviews.csv')"
   ]
  }
 ],
 "metadata": {
  "kernelspec": {
   "display_name": "Python 3",
   "language": "python",
   "name": "python3"
  },
  "language_info": {
   "codemirror_mode": {
    "name": "ipython",
    "version": 3
   },
   "file_extension": ".py",
   "mimetype": "text/x-python",
   "name": "python",
   "nbconvert_exporter": "python",
   "pygments_lexer": "ipython3",
   "version": "3.9.1"
  }
 },
 "nbformat": 4,
 "nbformat_minor": 5
}
