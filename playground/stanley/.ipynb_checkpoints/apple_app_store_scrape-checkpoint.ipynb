{
 "cells": [
  {
   "cell_type": "code",
   "execution_count": 1,
   "id": "intensive-combat",
   "metadata": {},
   "outputs": [
    {
     "name": "stderr",
     "output_type": "stream",
     "text": [
      "2021-12-04 17:02:55,790 [INFO] Base - Searching for app id\n",
      "2021-12-04 17:02:57,542 [INFO] Base - Initialised: AppStore('au', 'ubereats', 1058959277)\n",
      "2021-12-04 17:02:57,543 [INFO] Base - Ready to fetch reviews from: https://apps.apple.com/au/app/ubereats/id1058959277\n",
      "2021-12-04 17:03:02,727 [INFO] Base - [id:1058959277] Fetched 340 reviews (340 fetched in total)\n",
      "2021-12-04 17:03:08,234 [INFO] Base - [id:1058959277] Fetched 700 reviews (700 fetched in total)\n",
      "2021-12-04 17:03:13,744 [INFO] Base - [id:1058959277] Fetched 1060 reviews (1060 fetched in total)\n",
      "2021-12-04 17:03:19,048 [INFO] Base - [id:1058959277] Fetched 1420 reviews (1420 fetched in total)\n",
      "2021-12-04 17:03:24,508 [INFO] Base - [id:1058959277] Fetched 1780 reviews (1780 fetched in total)\n",
      "2021-12-04 17:03:29,997 [INFO] Base - [id:1058959277] Fetched 2140 reviews (2140 fetched in total)\n",
      "2021-12-04 17:03:35,500 [INFO] Base - [id:1058959277] Fetched 2520 reviews (2520 fetched in total)\n",
      "2021-12-04 17:03:41,081 [INFO] Base - [id:1058959277] Fetched 2900 reviews (2900 fetched in total)\n",
      "2021-12-04 17:03:46,530 [INFO] Base - [id:1058959277] Fetched 3280 reviews (3280 fetched in total)\n",
      "2021-12-04 17:03:51,855 [INFO] Base - [id:1058959277] Fetched 3640 reviews (3640 fetched in total)\n",
      "2021-12-04 17:04:16,123 [ERROR] Base - Something went wrong: HTTPSConnectionPool(host='amp-api.apps.apple.com', port=443): Max retries exceeded with url: /v1/catalog/au/apps/1058959277/reviews?l=en-GB&offset=4000&limit=20&platform=web&additionalPlatforms=appletv%2Cipad%2Ciphone%2Cmac (Caused by ResponseError('too many 429 error responses'))\n",
      "2021-12-04 17:04:16,125 [INFO] Base - [id:1058959277] Fetched 4000 reviews (4000 fetched in total)\n"
     ]
    }
   ],
   "source": [
    "from app_store_scraper import AppStore\n",
    "import pandas as pd\n",
    "import numpy as np\n",
    "import json\n",
    "import datetime as dt\n",
    "import random\n",
    "\n",
    "\n",
    "ue = AppStore(country=\"au\", app_name=\"Ubereats\")\n",
    "\n",
    "ue.review(how_many=10000)"
   ]
  },
  {
   "cell_type": "code",
   "execution_count": 39,
   "id": "lasting-cocktail",
   "metadata": {},
   "outputs": [
    {
     "name": "stderr",
     "output_type": "stream",
     "text": [
      "2021-12-01 23:57:55,617 [INFO] Base - Searching for app id\n",
      "2021-12-01 23:58:00,234 [INFO] Base - Initialised: AppStore('sg', 'deliveroo', 1001501844)\n",
      "2021-12-01 23:58:00,235 [INFO] Base - Ready to fetch reviews from: https://apps.apple.com/sg/app/deliveroo/id1001501844\n",
      "2021-12-01 23:58:05,311 [INFO] Base - [id:1001501844] Fetched 100 reviews (100 fetched in total)\n",
      "2021-12-01 23:58:12,226 [INFO] Base - [id:1001501844] Fetched 240 reviews (240 fetched in total)\n",
      "2021-12-01 23:58:18,239 [INFO] Base - [id:1001501844] Fetched 360 reviews (360 fetched in total)\n",
      "2021-12-01 23:58:24,466 [INFO] Base - [id:1001501844] Fetched 480 reviews (480 fetched in total)\n",
      "2021-12-01 23:58:31,222 [INFO] Base - [id:1001501844] Fetched 620 reviews (620 fetched in total)\n",
      "2021-12-01 23:58:38,053 [INFO] Base - [id:1001501844] Fetched 760 reviews (760 fetched in total)\n",
      "2021-12-01 23:58:45,085 [INFO] Base - [id:1001501844] Fetched 880 reviews (880 fetched in total)\n",
      "2021-12-01 23:58:51,737 [INFO] Base - [id:1001501844] Fetched 1000 reviews (1000 fetched in total)\n",
      "2021-12-01 23:58:58,519 [INFO] Base - [id:1001501844] Fetched 1140 reviews (1140 fetched in total)\n",
      "2021-12-01 23:59:05,039 [INFO] Base - [id:1001501844] Fetched 1260 reviews (1260 fetched in total)\n",
      "2021-12-01 23:59:11,147 [INFO] Base - [id:1001501844] Fetched 1380 reviews (1380 fetched in total)\n",
      "2021-12-01 23:59:17,781 [INFO] Base - [id:1001501844] Fetched 1500 reviews (1500 fetched in total)\n",
      "2021-12-01 23:59:23,189 [INFO] Base - [id:1001501844] Fetched 1564 reviews (1564 fetched in total)\n"
     ]
    }
   ],
   "source": [
    "dv = AppStore(country=\"sg\", app_name=\"deliveroo\")\n",
    "\n",
    "dv.review(how_many=10000)"
   ]
  },
  {
   "cell_type": "code",
   "execution_count": 40,
   "id": "forward-country",
   "metadata": {},
   "outputs": [
    {
     "name": "stderr",
     "output_type": "stream",
     "text": [
      "2021-12-01 23:59:23,209 [INFO] Base - Searching for app id\n",
      "2021-12-01 23:59:29,106 [INFO] Base - Initialised: AppStore('sg', 'grabfood', 647268330)\n",
      "2021-12-01 23:59:29,107 [INFO] Base - Ready to fetch reviews from: https://apps.apple.com/sg/app/grabfood/id647268330\n",
      "2021-12-01 23:59:34,421 [INFO] Base - [id:647268330] Fetched 100 reviews (100 fetched in total)\n",
      "2021-12-01 23:59:40,473 [INFO] Base - [id:647268330] Fetched 220 reviews (220 fetched in total)\n",
      "2021-12-01 23:59:46,904 [INFO] Base - [id:647268330] Fetched 340 reviews (340 fetched in total)\n",
      "2021-12-01 23:59:53,474 [INFO] Base - [id:647268330] Fetched 460 reviews (460 fetched in total)\n",
      "2021-12-01 23:59:59,561 [INFO] Base - [id:647268330] Fetched 580 reviews (580 fetched in total)\n",
      "2021-12-02 00:00:06,066 [INFO] Base - [id:647268330] Fetched 700 reviews (700 fetched in total)\n",
      "2021-12-02 00:00:12,357 [INFO] Base - [id:647268330] Fetched 820 reviews (820 fetched in total)\n",
      "2021-12-02 00:00:18,739 [INFO] Base - [id:647268330] Fetched 940 reviews (940 fetched in total)\n",
      "2021-12-02 00:00:25,098 [INFO] Base - [id:647268330] Fetched 1060 reviews (1060 fetched in total)\n",
      "2021-12-02 00:00:32,332 [INFO] Base - [id:647268330] Fetched 1200 reviews (1200 fetched in total)\n",
      "2021-12-02 00:00:39,571 [INFO] Base - [id:647268330] Fetched 1340 reviews (1340 fetched in total)\n",
      "2021-12-02 00:00:45,649 [INFO] Base - [id:647268330] Fetched 1460 reviews (1460 fetched in total)\n",
      "2021-12-02 00:00:52,442 [INFO] Base - [id:647268330] Fetched 1600 reviews (1600 fetched in total)\n",
      "2021-12-02 00:00:59,501 [INFO] Base - [id:647268330] Fetched 1740 reviews (1740 fetched in total)\n",
      "2021-12-02 00:01:05,835 [INFO] Base - [id:647268330] Fetched 1860 reviews (1860 fetched in total)\n",
      "2021-12-02 00:01:12,171 [INFO] Base - [id:647268330] Fetched 1980 reviews (1980 fetched in total)\n",
      "2021-12-02 00:01:18,594 [INFO] Base - [id:647268330] Fetched 2100 reviews (2100 fetched in total)\n",
      "2021-12-02 00:01:24,747 [INFO] Base - [id:647268330] Fetched 2220 reviews (2220 fetched in total)\n",
      "2021-12-02 00:01:31,089 [INFO] Base - [id:647268330] Fetched 2340 reviews (2340 fetched in total)\n",
      "2021-12-02 00:01:37,626 [INFO] Base - [id:647268330] Fetched 2460 reviews (2460 fetched in total)\n",
      "2021-12-02 00:01:43,652 [INFO] Base - [id:647268330] Fetched 2580 reviews (2580 fetched in total)\n",
      "2021-12-02 00:01:49,731 [INFO] Base - [id:647268330] Fetched 2700 reviews (2700 fetched in total)\n",
      "2021-12-02 00:01:55,937 [INFO] Base - [id:647268330] Fetched 2820 reviews (2820 fetched in total)\n",
      "2021-12-02 00:02:02,475 [INFO] Base - [id:647268330] Fetched 2940 reviews (2940 fetched in total)\n",
      "2021-12-02 00:02:09,581 [INFO] Base - [id:647268330] Fetched 3060 reviews (3060 fetched in total)\n",
      "2021-12-02 00:02:16,774 [INFO] Base - [id:647268330] Fetched 3200 reviews (3200 fetched in total)\n",
      "2021-12-02 00:02:23,196 [INFO] Base - [id:647268330] Fetched 3320 reviews (3320 fetched in total)\n",
      "2021-12-02 00:02:29,593 [INFO] Base - [id:647268330] Fetched 3440 reviews (3440 fetched in total)\n",
      "2021-12-02 00:02:35,944 [INFO] Base - [id:647268330] Fetched 3560 reviews (3560 fetched in total)\n",
      "2021-12-02 00:02:42,441 [INFO] Base - [id:647268330] Fetched 3680 reviews (3680 fetched in total)\n",
      "2021-12-02 00:02:49,299 [INFO] Base - [id:647268330] Fetched 3820 reviews (3820 fetched in total)\n",
      "2021-12-02 00:02:55,602 [INFO] Base - [id:647268330] Fetched 3940 reviews (3940 fetched in total)\n",
      "2021-12-02 00:03:01,651 [INFO] Base - [id:647268330] Fetched 4060 reviews (4060 fetched in total)\n",
      "2021-12-02 00:03:08,433 [INFO] Base - [id:647268330] Fetched 4200 reviews (4200 fetched in total)\n",
      "2021-12-02 00:03:14,778 [INFO] Base - [id:647268330] Fetched 4320 reviews (4320 fetched in total)\n",
      "2021-12-02 00:03:21,067 [INFO] Base - [id:647268330] Fetched 4440 reviews (4440 fetched in total)\n",
      "2021-12-02 00:03:27,885 [INFO] Base - [id:647268330] Fetched 4580 reviews (4580 fetched in total)\n",
      "2021-12-02 00:03:34,988 [INFO] Base - [id:647268330] Fetched 4720 reviews (4720 fetched in total)\n",
      "2021-12-02 00:03:42,283 [INFO] Base - [id:647268330] Fetched 4840 reviews (4840 fetched in total)\n",
      "2021-12-02 00:03:49,192 [INFO] Base - [id:647268330] Fetched 4980 reviews (4980 fetched in total)\n",
      "2021-12-02 00:03:55,463 [INFO] Base - [id:647268330] Fetched 5100 reviews (5100 fetched in total)\n",
      "2021-12-02 00:04:02,749 [INFO] Base - [id:647268330] Fetched 5240 reviews (5240 fetched in total)\n",
      "2021-12-02 00:04:09,626 [INFO] Base - [id:647268330] Fetched 5380 reviews (5380 fetched in total)\n",
      "2021-12-02 00:04:15,707 [INFO] Base - [id:647268330] Fetched 5500 reviews (5500 fetched in total)\n",
      "2021-12-02 00:04:22,769 [INFO] Base - [id:647268330] Fetched 5620 reviews (5620 fetched in total)\n",
      "2021-12-02 00:04:29,820 [INFO] Base - [id:647268330] Fetched 5760 reviews (5760 fetched in total)\n",
      "2021-12-02 00:04:36,488 [INFO] Base - [id:647268330] Fetched 5880 reviews (5880 fetched in total)\n",
      "2021-12-02 00:04:43,737 [INFO] Base - [id:647268330] Fetched 6000 reviews (6000 fetched in total)\n",
      "2021-12-02 00:04:50,945 [INFO] Base - [id:647268330] Fetched 6140 reviews (6140 fetched in total)\n",
      "2021-12-02 00:04:57,021 [INFO] Base - [id:647268330] Fetched 6260 reviews (6260 fetched in total)\n",
      "2021-12-02 00:05:03,385 [INFO] Base - [id:647268330] Fetched 6360 reviews (6360 fetched in total)\n",
      "2021-12-02 00:05:09,791 [INFO] Base - [id:647268330] Fetched 6480 reviews (6480 fetched in total)\n",
      "2021-12-02 00:05:16,621 [INFO] Base - [id:647268330] Fetched 6620 reviews (6620 fetched in total)\n",
      "2021-12-02 00:05:22,927 [INFO] Base - [id:647268330] Fetched 6740 reviews (6740 fetched in total)\n",
      "2021-12-02 00:05:29,253 [INFO] Base - [id:647268330] Fetched 6860 reviews (6860 fetched in total)\n",
      "2021-12-02 00:05:35,772 [INFO] Base - [id:647268330] Fetched 6980 reviews (6980 fetched in total)\n",
      "2021-12-02 00:05:42,572 [INFO] Base - [id:647268330] Fetched 7100 reviews (7100 fetched in total)\n",
      "2021-12-02 00:05:48,885 [INFO] Base - [id:647268330] Fetched 7220 reviews (7220 fetched in total)\n",
      "2021-12-02 00:05:55,778 [INFO] Base - [id:647268330] Fetched 7360 reviews (7360 fetched in total)\n",
      "2021-12-02 00:06:02,671 [INFO] Base - [id:647268330] Fetched 7500 reviews (7500 fetched in total)\n",
      "2021-12-02 00:06:08,484 [INFO] Base - [id:647268330] Fetched 7594 reviews (7594 fetched in total)\n"
     ]
    }
   ],
   "source": [
    "gf = AppStore(country=\"sg\", app_name=\"grabfood\")\n",
    "\n",
    "gf.review(how_many=10000)"
   ]
  },
  {
   "cell_type": "code",
   "execution_count": 45,
   "id": "interior-caution",
   "metadata": {},
   "outputs": [],
   "source": [
    "fp_df=pd.DataFrame(fp.reviews)\n",
    "fp_df['app']='FoodPanda'\n",
    "\n",
    "gf_df=pd.DataFrame(gf.reviews)\n",
    "gf_df['app']='GrabFood'\n",
    "\n",
    "dv_df=pd.DataFrame(dv.reviews)\n",
    "dv_df['app']='Deliveroo'\n"
   ]
  },
  {
   "cell_type": "code",
   "execution_count": 59,
   "id": "eligible-metabolism",
   "metadata": {},
   "outputs": [],
   "source": [
    "df=pd.concat([gf_df,dv_df,fp_df])\n",
    "df.to_csv('apple_app_store_reviews.csv')"
   ]
  }
 ],
 "metadata": {
  "kernelspec": {
   "display_name": "Python 3",
   "language": "python",
   "name": "python3"
  },
  "language_info": {
   "codemirror_mode": {
    "name": "ipython",
    "version": 3
   },
   "file_extension": ".py",
   "mimetype": "text/x-python",
   "name": "python",
   "nbconvert_exporter": "python",
   "pygments_lexer": "ipython3",
   "version": "3.9.1"
  }
 },
 "nbformat": 4,
 "nbformat_minor": 5
}
